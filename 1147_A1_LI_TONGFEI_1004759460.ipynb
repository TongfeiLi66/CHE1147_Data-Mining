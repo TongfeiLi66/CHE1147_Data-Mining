{
 "cells": [
  {
   "cell_type": "markdown",
   "id": "8dc444e2",
   "metadata": {},
   "source": [
    "# CHE1147 Assignment 01"
   ]
  },
  {
   "cell_type": "markdown",
   "id": "fb0e7740",
   "metadata": {},
   "source": [
    "Q1 Python structures\n",
    "\n",
    "1.1 Tuples"
   ]
  },
  {
   "cell_type": "markdown",
   "id": "9f48e722",
   "metadata": {},
   "source": [
    "Q1.1.1"
   ]
  },
  {
   "cell_type": "code",
   "execution_count": 1,
   "id": "ed0054ae",
   "metadata": {},
   "outputs": [
    {
     "data": {
      "text/plain": [
       "('Google', 'Facebook', 'Amazon', 'Netflix', 'AirBnB', 'Instagram')"
      ]
     },
     "execution_count": 1,
     "metadata": {},
     "output_type": "execute_result"
    }
   ],
   "source": [
    "apps_tuple = (\"Google\", \"Facebook\", \"Amazon\", \"Netflix\", \"AirBnB\", \"Instagram\")\n",
    "apps_tuple"
   ]
  },
  {
   "cell_type": "markdown",
   "id": "3a936c00",
   "metadata": {},
   "source": [
    "Q1.1.2."
   ]
  },
  {
   "cell_type": "code",
   "execution_count": 2,
   "id": "8f3027b3",
   "metadata": {},
   "outputs": [
    {
     "data": {
      "text/plain": [
       "'Facebook'"
      ]
     },
     "execution_count": 2,
     "metadata": {},
     "output_type": "execute_result"
    }
   ],
   "source": [
    "# second element\n",
    "apps_tuple[1]"
   ]
  },
  {
   "cell_type": "code",
   "execution_count": 3,
   "id": "346b3387",
   "metadata": {},
   "outputs": [
    {
     "data": {
      "text/plain": [
       "'Instagram'"
      ]
     },
     "execution_count": 3,
     "metadata": {},
     "output_type": "execute_result"
    }
   ],
   "source": [
    "# last element\n",
    "apps_tuple[-1]"
   ]
  },
  {
   "cell_type": "markdown",
   "id": "7f669563",
   "metadata": {},
   "source": [
    "Q1.1.3."
   ]
  },
  {
   "cell_type": "code",
   "execution_count": 4,
   "id": "cd745175",
   "metadata": {},
   "outputs": [
    {
     "data": {
      "text/plain": [
       "('Facebook', 'Amazon', 'Netflix')"
      ]
     },
     "execution_count": 4,
     "metadata": {},
     "output_type": "execute_result"
    }
   ],
   "source": [
    "# slice elements\n",
    "apps_tuple[slice(1,4)]"
   ]
  },
  {
   "cell_type": "markdown",
   "id": "564efad4",
   "metadata": {},
   "source": [
    "Q1.1.4. Answer: Error message occure while trying to append, because tuple objects are immutable."
   ]
  },
  {
   "cell_type": "code",
   "execution_count": 5,
   "id": "3b8fc5c0",
   "metadata": {},
   "outputs": [
    {
     "ename": "AttributeError",
     "evalue": "'tuple' object has no attribute 'append'",
     "output_type": "error",
     "traceback": [
      "\u001b[0;31m---------------------------------------------------------------------------\u001b[0m",
      "\u001b[0;31mAttributeError\u001b[0m                            Traceback (most recent call last)",
      "Input \u001b[0;32mIn [5]\u001b[0m, in \u001b[0;36m<cell line: 1>\u001b[0;34m()\u001b[0m\n\u001b[0;32m----> 1\u001b[0m \u001b[43mapps_tuple\u001b[49m\u001b[38;5;241;43m.\u001b[39;49m\u001b[43mappend\u001b[49m(\u001b[38;5;124m\"\u001b[39m\u001b[38;5;124mMessenger\u001b[39m\u001b[38;5;124m\"\u001b[39m)\n",
      "\u001b[0;31mAttributeError\u001b[0m: 'tuple' object has no attribute 'append'"
     ]
    }
   ],
   "source": [
    "apps_tuple.append(\"Messenger\")"
   ]
  },
  {
   "cell_type": "markdown",
   "id": "da4aadcd",
   "metadata": {},
   "source": [
    "1.2 Lists\n",
    "\n",
    "Q1.2.1."
   ]
  },
  {
   "cell_type": "code",
   "execution_count": 12,
   "id": "ccf0a4b0",
   "metadata": {},
   "outputs": [
    {
     "data": {
      "text/plain": [
       "['Google', 'Facebook', 'Amazon', 'Netflix', 'AirBnB', 'Instagram']"
      ]
     },
     "execution_count": 12,
     "metadata": {},
     "output_type": "execute_result"
    }
   ],
   "source": [
    "apps_list=[\"Google\", \"Facebook\", \"Amazon\", \"Netflix\", \"AirBnB\", \"Instagram\"]\n",
    "apps_list"
   ]
  },
  {
   "cell_type": "markdown",
   "id": "0d87328a",
   "metadata": {},
   "source": [
    "Q1.2.2."
   ]
  },
  {
   "cell_type": "code",
   "execution_count": 13,
   "id": "0c058c6c",
   "metadata": {},
   "outputs": [
    {
     "data": {
      "text/plain": [
       "['Google', 'Facebook', 'Amazon']"
      ]
     },
     "execution_count": 13,
     "metadata": {},
     "output_type": "execute_result"
    }
   ],
   "source": [
    "# slice the first three\n",
    "apps_list[:3]"
   ]
  },
  {
   "cell_type": "markdown",
   "id": "d912d26e",
   "metadata": {},
   "source": [
    "Q1.2.3."
   ]
  },
  {
   "cell_type": "code",
   "execution_count": 14,
   "id": "426fec75",
   "metadata": {},
   "outputs": [
    {
     "data": {
      "text/plain": [
       "['Netflix', 'AirBnB', 'Instagram']"
      ]
     },
     "execution_count": 14,
     "metadata": {},
     "output_type": "execute_result"
    }
   ],
   "source": [
    "# slice after index 3\n",
    "apps_list[3:]"
   ]
  },
  {
   "cell_type": "markdown",
   "id": "7e444de3",
   "metadata": {},
   "source": [
    "Q1.2.4."
   ]
  },
  {
   "cell_type": "code",
   "execution_count": 15,
   "id": "bde8077c",
   "metadata": {},
   "outputs": [
    {
     "data": {
      "text/plain": [
       "['Google', 'Facebook', 'Amazon', 'Netflix', 'AirBnB', 'Instagram', 'Messenger']"
      ]
     },
     "execution_count": 15,
     "metadata": {},
     "output_type": "execute_result"
    }
   ],
   "source": [
    "# append\n",
    "apps_list.append(\"Messenger\")\n",
    "apps_list"
   ]
  },
  {
   "cell_type": "code",
   "execution_count": 16,
   "id": "fb5fdfed",
   "metadata": {},
   "outputs": [
    {
     "data": {
      "text/plain": [
       "['Google',\n",
       " 'Youtube',\n",
       " 'Facebook',\n",
       " 'Amazon',\n",
       " 'Netflix',\n",
       " 'AirBnB',\n",
       " 'Instagram',\n",
       " 'Messenger']"
      ]
     },
     "execution_count": 16,
     "metadata": {},
     "output_type": "execute_result"
    }
   ],
   "source": [
    "# insert\n",
    "apps_list.insert(1, \"Youtube\")\n",
    "apps_list"
   ]
  },
  {
   "cell_type": "markdown",
   "id": "a3c435fc",
   "metadata": {},
   "source": [
    "Q1.2.5."
   ]
  },
  {
   "cell_type": "code",
   "execution_count": 17,
   "id": "126c95c9",
   "metadata": {},
   "outputs": [
    {
     "data": {
      "text/plain": [
       "['Google', 'Youtube', 'Amazon', 'Netflix', 'AirBnB', 'Instagram', 'Messenger']"
      ]
     },
     "execution_count": 17,
     "metadata": {},
     "output_type": "execute_result"
    }
   ],
   "source": [
    "# remove\n",
    "apps_list.remove(\"Facebook\")\n",
    "apps_list"
   ]
  },
  {
   "cell_type": "code",
   "execution_count": 18,
   "id": "754b3b94",
   "metadata": {},
   "outputs": [
    {
     "data": {
      "text/plain": [
       "False"
      ]
     },
     "execution_count": 18,
     "metadata": {},
     "output_type": "execute_result"
    }
   ],
   "source": [
    "# confirm of removing element\n",
    "\"Facebook\" in apps_list"
   ]
  },
  {
   "cell_type": "markdown",
   "id": "be731067",
   "metadata": {},
   "source": [
    "Q1.2.6."
   ]
  },
  {
   "cell_type": "code",
   "execution_count": 19,
   "id": "4eb9a44d",
   "metadata": {},
   "outputs": [
    {
     "data": {
      "text/plain": [
       "['Google',\n",
       " 'Youtube',\n",
       " 'Amazon',\n",
       " 'Netflix',\n",
       " 'AirBnB',\n",
       " 'Instagram',\n",
       " 'Messenger',\n",
       " 'Linkedin',\n",
       " 'Twitter']"
      ]
     },
     "execution_count": 19,
     "metadata": {},
     "output_type": "execute_result"
    }
   ],
   "source": [
    "# create list for concatenation\n",
    "nl = [\"Linkedin\", \"Twitter\"] \n",
    "# concatenate\n",
    "apps_list += nl\n",
    "apps_list"
   ]
  },
  {
   "cell_type": "markdown",
   "id": "cf3c792f",
   "metadata": {},
   "source": [
    "1.3 Dicts\n",
    "\n",
    "Q1.3.1."
   ]
  },
  {
   "cell_type": "code",
   "execution_count": 20,
   "id": "b607d487",
   "metadata": {},
   "outputs": [
    {
     "data": {
      "text/plain": [
       "{'app0': 'Google',\n",
       " 'app1': 'Facebook',\n",
       " 'app2': 'Amazon',\n",
       " 'app3': 'Netflix',\n",
       " 'app4': 'AirBnB',\n",
       " 'app5': 'Instagram'}"
      ]
     },
     "execution_count": 20,
     "metadata": {},
     "output_type": "execute_result"
    }
   ],
   "source": [
    "apps_dict = {'app0': \"Google\", 'app1': \"Facebook\", 'app2': \"Amazon\", 'app3': \"Netflix\", 'app4': \"AirBnB\", 'app5': \"Instagram\"}\n",
    "apps_dict"
   ]
  },
  {
   "cell_type": "markdown",
   "id": "3d6e8388",
   "metadata": {},
   "source": [
    "Q1.3.2."
   ]
  },
  {
   "cell_type": "code",
   "execution_count": 21,
   "id": "8477b563",
   "metadata": {},
   "outputs": [
    {
     "data": {
      "text/plain": [
       "'Facebook'"
      ]
     },
     "execution_count": 21,
     "metadata": {},
     "output_type": "execute_result"
    }
   ],
   "source": [
    "# access the element with key app1\n",
    "apps_dict[\"app1\"]"
   ]
  },
  {
   "cell_type": "code",
   "execution_count": 22,
   "id": "1a4fa634",
   "metadata": {},
   "outputs": [
    {
     "data": {
      "text/plain": [
       "{'app0': 'Google',\n",
       " 'app1': 'Youtube',\n",
       " 'app2': 'Amazon',\n",
       " 'app3': 'Netflix',\n",
       " 'app4': 'AirBnB',\n",
       " 'app5': 'Instagram'}"
      ]
     },
     "execution_count": 22,
     "metadata": {},
     "output_type": "execute_result"
    }
   ],
   "source": [
    "# replace the element of key app1 with \"youtube\"\n",
    "apps_dict[\"app1\"] = \"Youtube\"\n",
    "apps_dict"
   ]
  },
  {
   "cell_type": "markdown",
   "id": "c86f89d9",
   "metadata": {},
   "source": [
    "Q1.3.3."
   ]
  },
  {
   "cell_type": "code",
   "execution_count": 23,
   "id": "eab670dd",
   "metadata": {},
   "outputs": [
    {
     "data": {
      "text/plain": [
       "{'app0': 'Google',\n",
       " 'app1': 'Youtube',\n",
       " 'app2': 'Amazon',\n",
       " 'app3': 'Netflix',\n",
       " 'app4': 'AirBnB',\n",
       " 'app5': 'Instagram',\n",
       " 'app6': 'Messenger'}"
      ]
     },
     "execution_count": 23,
     "metadata": {},
     "output_type": "execute_result"
    }
   ],
   "source": [
    "# add new key value pair\n",
    "apps_dict[\"app6\"] = \"Messenger\"\n",
    "apps_dict"
   ]
  },
  {
   "cell_type": "markdown",
   "id": "06f98407",
   "metadata": {},
   "source": [
    "Q1.3.4. Answer: It replace the value in app1 to Messenger"
   ]
  },
  {
   "cell_type": "code",
   "execution_count": 24,
   "id": "56cb9312",
   "metadata": {},
   "outputs": [
    {
     "data": {
      "text/plain": [
       "{'app0': 'Google',\n",
       " 'app1': 'Messenger',\n",
       " 'app2': 'Amazon',\n",
       " 'app3': 'Netflix',\n",
       " 'app4': 'AirBnB',\n",
       " 'app5': 'Instagram',\n",
       " 'app6': 'Messenger'}"
      ]
     },
     "execution_count": 24,
     "metadata": {},
     "output_type": "execute_result"
    }
   ],
   "source": [
    "apps_dict[\"app1\"]=\"Messenger\"\n",
    "apps_dict"
   ]
  },
  {
   "cell_type": "markdown",
   "id": "ca9ddcbd",
   "metadata": {},
   "source": [
    "Q1.3.5. Answer: It append the new key value pair of App1-Facebook to the end of the dictionary, because uppercase and lowercase letter are recognized differently in python. i.e. App1 != app1 "
   ]
  },
  {
   "cell_type": "code",
   "execution_count": 25,
   "id": "8bad3d62",
   "metadata": {},
   "outputs": [
    {
     "data": {
      "text/plain": [
       "{'app0': 'Google',\n",
       " 'app1': 'Messenger',\n",
       " 'app2': 'Amazon',\n",
       " 'app3': 'Netflix',\n",
       " 'app4': 'AirBnB',\n",
       " 'app5': 'Instagram',\n",
       " 'app6': 'Messenger',\n",
       " 'App1': 'Facebook'}"
      ]
     },
     "execution_count": 25,
     "metadata": {},
     "output_type": "execute_result"
    }
   ],
   "source": [
    "apps_dict[\"App1\"]=\"Facebook\"\n",
    "apps_dict"
   ]
  },
  {
   "cell_type": "markdown",
   "id": "7187dfcf",
   "metadata": {},
   "source": [
    " Q1.3.6. It delete the key of App1 as well as the value pair of App1"
   ]
  },
  {
   "cell_type": "code",
   "execution_count": 26,
   "id": "bb01d9ef",
   "metadata": {},
   "outputs": [
    {
     "data": {
      "text/plain": [
       "{'app0': 'Google',\n",
       " 'app1': 'Messenger',\n",
       " 'app2': 'Amazon',\n",
       " 'app3': 'Netflix',\n",
       " 'app4': 'AirBnB',\n",
       " 'app5': 'Instagram',\n",
       " 'app6': 'Messenger'}"
      ]
     },
     "execution_count": 26,
     "metadata": {},
     "output_type": "execute_result"
    }
   ],
   "source": [
    "del apps_dict[\"App1\"]\n",
    "apps_dict"
   ]
  },
  {
   "cell_type": "markdown",
   "id": "88cec97d",
   "metadata": {},
   "source": [
    "1.4 List comprehension\n",
    "\n",
    "Q1.4.1."
   ]
  },
  {
   "cell_type": "code",
   "execution_count": 27,
   "id": "bb9b1828",
   "metadata": {},
   "outputs": [
    {
     "data": {
      "text/plain": [
       "[7, 12, 9, 18, 15]"
      ]
     },
     "execution_count": 27,
     "metadata": {},
     "output_type": "execute_result"
    }
   ],
   "source": [
    "values = [7, 12, 9, 18, 15]\n",
    "values"
   ]
  },
  {
   "cell_type": "markdown",
   "id": "77609929",
   "metadata": {},
   "source": [
    "Q1.4.2."
   ]
  },
  {
   "cell_type": "code",
   "execution_count": 28,
   "id": "d4dd7acf",
   "metadata": {},
   "outputs": [
    {
     "data": {
      "text/plain": [
       "[49, 144, 81, 324, 225]"
      ]
     },
     "execution_count": 28,
     "metadata": {},
     "output_type": "execute_result"
    }
   ],
   "source": [
    "sq_va = [i**2 for i in values]\n",
    "sq_va"
   ]
  },
  {
   "cell_type": "markdown",
   "id": "246cc6a6",
   "metadata": {},
   "source": [
    "1.5 Functions and control flow\n",
    "Q1.5.1."
   ]
  },
  {
   "cell_type": "code",
   "execution_count": 29,
   "id": "669ab57c",
   "metadata": {},
   "outputs": [],
   "source": [
    "import numpy as np"
   ]
  },
  {
   "cell_type": "code",
   "execution_count": 30,
   "id": "85960e76",
   "metadata": {},
   "outputs": [
    {
     "name": "stderr",
     "output_type": "stream",
     "text": [
      "/var/folders/7z/6tf98rc93hs5zf3rfz6g5_zm0000gn/T/ipykernel_62571/3054129060.py:1: DeprecationWarning: This function is deprecated. Please call randint(600, 900 + 1) instead\n",
      "  samp = np.random.random_integers(600,900,10)\n"
     ]
    },
    {
     "data": {
      "text/plain": [
       "array([756, 888, 655, 695, 728, 727, 751, 656, 831, 721])"
      ]
     },
     "execution_count": 30,
     "metadata": {},
     "output_type": "execute_result"
    }
   ],
   "source": [
    "samp = np.random.random_integers(600,900,10)\n",
    "samp"
   ]
  },
  {
   "cell_type": "markdown",
   "id": "86168fec",
   "metadata": {},
   "source": [
    "Q1.5.2."
   ]
  },
  {
   "cell_type": "code",
   "execution_count": 31,
   "id": "06d69f64",
   "metadata": {},
   "outputs": [
    {
     "data": {
      "text/plain": [
       "['Medium',\n",
       " 'High',\n",
       " 'Low',\n",
       " 'Low',\n",
       " 'Medium',\n",
       " 'Medium',\n",
       " 'Medium',\n",
       " 'Low',\n",
       " 'High',\n",
       " 'Medium']"
      ]
     },
     "execution_count": 31,
     "metadata": {},
     "output_type": "execute_result"
    }
   ],
   "source": [
    "def credit_score(sample):\n",
    "    # create output list\n",
    "    out = []\n",
    "    for i in range(len(sample)):\n",
    "        if sample[i] >= 600 and sample[i] <= 699:\n",
    "            out.append(\"Low\")\n",
    "        elif sample[i] >= 700 and sample[i] <= 799:\n",
    "            out.append(\"Medium\")\n",
    "        elif sample[i] >= 800 and sample[i] <= 900:\n",
    "            out.append(\"High\")\n",
    "        else:\n",
    "            out.append(\"error: not in targeted range\")\n",
    "    return out\n",
    "# the value at index i of output list indicates value (high or low or medium) at index i of input list\n",
    "credit_score(samp)"
   ]
  },
  {
   "cell_type": "markdown",
   "id": "9d93cade",
   "metadata": {},
   "source": [
    "2.1 Matrix calculations\n",
    "\n",
    "Q2.1.1."
   ]
  },
  {
   "cell_type": "code",
   "execution_count": 32,
   "id": "21d7adb6",
   "metadata": {},
   "outputs": [
    {
     "name": "stdout",
     "output_type": "stream",
     "text": [
      "[[2 1]\n",
      " [1 1]\n",
      " [2 3]] \n",
      " [[-4  1]\n",
      " [ 3 -1]\n",
      " [-2  1]]\n"
     ]
    }
   ],
   "source": [
    "A = np.array([[2, 1],[1, 1],[2, 3]])\n",
    "B = np.array([[-4, 1],[3, -1],[-2, 1]])\n",
    "# A and B created\n",
    "print(A,\"\\n\", B)"
   ]
  },
  {
   "cell_type": "code",
   "execution_count": 33,
   "id": "1ff2dcca",
   "metadata": {},
   "outputs": [
    {
     "data": {
      "text/plain": [
       "array([[4, 2],\n",
       "       [2, 2],\n",
       "       [4, 6]])"
      ]
     },
     "execution_count": 33,
     "metadata": {},
     "output_type": "execute_result"
    }
   ],
   "source": [
    "# calculate 2A\n",
    "2 * A"
   ]
  },
  {
   "cell_type": "code",
   "execution_count": 34,
   "id": "9f7adb03",
   "metadata": {},
   "outputs": [
    {
     "data": {
      "text/plain": [
       "array([[12, -3],\n",
       "       [-9,  3],\n",
       "       [ 6, -3]])"
      ]
     },
     "execution_count": 34,
     "metadata": {},
     "output_type": "execute_result"
    }
   ],
   "source": [
    "# calculate -3B\n",
    "-3 * B"
   ]
  },
  {
   "cell_type": "code",
   "execution_count": 35,
   "id": "467c0e5b",
   "metadata": {},
   "outputs": [
    {
     "data": {
      "text/plain": [
       "array([[-2,  2],\n",
       "       [ 4,  0],\n",
       "       [ 0,  4]])"
      ]
     },
     "execution_count": 35,
     "metadata": {},
     "output_type": "execute_result"
    }
   ],
   "source": [
    "# calculate A+B\n",
    "A + B"
   ]
  },
  {
   "cell_type": "markdown",
   "id": "454a6d48",
   "metadata": {},
   "source": [
    "Q2.1.2."
   ]
  },
  {
   "cell_type": "code",
   "execution_count": 36,
   "id": "ffa06c58",
   "metadata": {},
   "outputs": [
    {
     "name": "stdout",
     "output_type": "stream",
     "text": [
      "[[ 2 -6]\n",
      " [-4  0]\n",
      " [ 1  5]] \n",
      " [[1 1]\n",
      " [2 3]]\n"
     ]
    }
   ],
   "source": [
    "A = np.array([[2, -6],[-4, 0],[1, 5]])\n",
    "B = np.array([[1, 1],[2, 3]])\n",
    "print(A,\"\\n\", B)"
   ]
  },
  {
   "cell_type": "code",
   "execution_count": 37,
   "id": "15637eff",
   "metadata": {},
   "outputs": [
    {
     "data": {
      "text/plain": [
       "array([[-10, -16],\n",
       "       [ -4,  -4],\n",
       "       [ 11,  16]])"
      ]
     },
     "execution_count": 37,
     "metadata": {},
     "output_type": "execute_result"
    }
   ],
   "source": [
    "#A*B\n",
    "A.dot(B)"
   ]
  },
  {
   "cell_type": "code",
   "execution_count": 38,
   "id": "213e9374",
   "metadata": {},
   "outputs": [
    {
     "data": {
      "text/plain": [
       "array([[ 3., -1.],\n",
       "       [-2.,  1.]])"
      ]
     },
     "execution_count": 38,
     "metadata": {},
     "output_type": "execute_result"
    }
   ],
   "source": [
    "from numpy.linalg import inv\n",
    "#inverse of B\n",
    "inv(B)"
   ]
  },
  {
   "cell_type": "markdown",
   "id": "347aa36a",
   "metadata": {},
   "source": [
    "Q2.1.3."
   ]
  },
  {
   "cell_type": "code",
   "execution_count": 39,
   "id": "03988c1b",
   "metadata": {},
   "outputs": [
    {
     "data": {
      "text/plain": [
       "array([[ 1,  0,  4,  1],\n",
       "       [-2,  1, -3,  2],\n",
       "       [ 0,  0,  0,  2],\n",
       "       [ 3,  2,  1, -1]])"
      ]
     },
     "execution_count": 39,
     "metadata": {},
     "output_type": "execute_result"
    }
   ],
   "source": [
    "A = np.array([[1,0,4,1],[-2,1,-3,2],[0,0,0,2],[3,2,1,-1]])\n",
    "A"
   ]
  },
  {
   "cell_type": "code",
   "execution_count": 40,
   "id": "3809e074",
   "metadata": {},
   "outputs": [
    {
     "data": {
      "text/plain": [
       "array([[ 1,  0,  3,  1],\n",
       "       [-2,  1, -3,  2],\n",
       "       [ 0,  0,  0,  2],\n",
       "       [ 3,  2,  1, -1]])"
      ]
     },
     "execution_count": 40,
     "metadata": {},
     "output_type": "execute_result"
    }
   ],
   "source": [
    "# replace elements >= 3 with 3\n",
    "np.where(A >= 3, 3, A)"
   ]
  },
  {
   "cell_type": "code",
   "execution_count": 41,
   "id": "4d0fbca4",
   "metadata": {},
   "outputs": [],
   "source": [
    "from numpy.linalg import det"
   ]
  },
  {
   "cell_type": "code",
   "execution_count": 42,
   "id": "e501e121",
   "metadata": {},
   "outputs": [
    {
     "data": {
      "text/plain": [
       "42.00000000000001"
      ]
     },
     "execution_count": 42,
     "metadata": {},
     "output_type": "execute_result"
    }
   ],
   "source": [
    "# determinant of origianl A\n",
    "det(A)"
   ]
  },
  {
   "cell_type": "markdown",
   "id": "01f4a130",
   "metadata": {},
   "source": [
    "2.2 Norms and eigenvalues \n",
    "\n",
    "Q2.2.1."
   ]
  },
  {
   "cell_type": "code",
   "execution_count": 43,
   "id": "059b391e",
   "metadata": {},
   "outputs": [
    {
     "name": "stdout",
     "output_type": "stream",
     "text": [
      "[[ 1]\n",
      " [-2]\n",
      " [ 3]] \n",
      " [[ 2]\n",
      " [ 0]\n",
      " [-1]\n",
      " [ 2]] \n",
      " [[ 0]\n",
      " [ 1]\n",
      " [-4]\n",
      " [ 2]\n",
      " [-1]]\n"
     ]
    }
   ],
   "source": [
    "x1 = np.array([[1],[-2],[3]])\n",
    "x2 = np.array([[2],[0],[-1],[2]])\n",
    "x3 = np.array([[0],[1],[-4],[2],[-1]])\n",
    "# three vectors created\n",
    "print(x1,\"\\n\", x2,\"\\n\",x3)"
   ]
  },
  {
   "cell_type": "code",
   "execution_count": 44,
   "id": "db6bb348",
   "metadata": {},
   "outputs": [
    {
     "data": {
      "text/plain": [
       "3"
      ]
     },
     "execution_count": 44,
     "metadata": {},
     "output_type": "execute_result"
    }
   ],
   "source": [
    "# maximum of vector x1\n",
    "x1.max()"
   ]
  },
  {
   "cell_type": "code",
   "execution_count": 45,
   "id": "3e7d5149",
   "metadata": {},
   "outputs": [
    {
     "data": {
      "text/plain": [
       "2"
      ]
     },
     "execution_count": 45,
     "metadata": {},
     "output_type": "execute_result"
    }
   ],
   "source": [
    "# maximum of vector x2\n",
    "x2.max()"
   ]
  },
  {
   "cell_type": "code",
   "execution_count": 46,
   "id": "61715ec0",
   "metadata": {},
   "outputs": [
    {
     "data": {
      "text/plain": [
       "2"
      ]
     },
     "execution_count": 46,
     "metadata": {},
     "output_type": "execute_result"
    }
   ],
   "source": [
    "# maximum of vector x3\n",
    "x3.max()"
   ]
  },
  {
   "cell_type": "code",
   "execution_count": 47,
   "id": "05166d17",
   "metadata": {},
   "outputs": [
    {
     "data": {
      "text/plain": [
       "3.7416573867739413"
      ]
     },
     "execution_count": 47,
     "metadata": {},
     "output_type": "execute_result"
    }
   ],
   "source": [
    "from numpy.linalg import norm\n",
    "# norm of x1\n",
    "norm(x1)"
   ]
  },
  {
   "cell_type": "code",
   "execution_count": 48,
   "id": "5117fcfb",
   "metadata": {},
   "outputs": [
    {
     "data": {
      "text/plain": [
       "3.0"
      ]
     },
     "execution_count": 48,
     "metadata": {},
     "output_type": "execute_result"
    }
   ],
   "source": [
    "# norm of x2\n",
    "norm(x2)"
   ]
  },
  {
   "cell_type": "code",
   "execution_count": 49,
   "id": "3669d244",
   "metadata": {},
   "outputs": [
    {
     "data": {
      "text/plain": [
       "4.69041575982343"
      ]
     },
     "execution_count": 49,
     "metadata": {},
     "output_type": "execute_result"
    }
   ],
   "source": [
    "# norm of x3\n",
    "norm(x3)"
   ]
  },
  {
   "cell_type": "markdown",
   "id": "2a0951d1",
   "metadata": {},
   "source": [
    "Q2.2.2."
   ]
  },
  {
   "cell_type": "code",
   "execution_count": 50,
   "id": "fc99e762",
   "metadata": {},
   "outputs": [
    {
     "name": "stdout",
     "output_type": "stream",
     "text": [
      "[[ 1 -2]\n",
      " [ 4  3]] \n",
      " [[ 1  0  2]\n",
      " [ 0  1 -1]\n",
      " [-1  1  1]]\n"
     ]
    }
   ],
   "source": [
    "A1 = np.array([[1,-2],[4,3]])\n",
    "A2 = np.array([[1,0,2],[0,1,-1],[-1,1,1]])\n",
    "print(A1,\"\\n\", A2)"
   ]
  },
  {
   "cell_type": "code",
   "execution_count": 51,
   "id": "de4d8384",
   "metadata": {},
   "outputs": [
    {
     "data": {
      "text/plain": [
       "5.0197648378370845"
      ]
     },
     "execution_count": 51,
     "metadata": {},
     "output_type": "execute_result"
    }
   ],
   "source": [
    "# l2 norm of A1\n",
    "norm(A1, 2)"
   ]
  },
  {
   "cell_type": "code",
   "execution_count": 52,
   "id": "9e9e4e54",
   "metadata": {},
   "outputs": [
    {
     "data": {
      "text/plain": [
       "7.0"
      ]
     },
     "execution_count": 52,
     "metadata": {},
     "output_type": "execute_result"
    }
   ],
   "source": [
    "# l inf norm of A1\n",
    "norm(A1, np.inf)"
   ]
  },
  {
   "cell_type": "code",
   "execution_count": 53,
   "id": "0e0c4ce8",
   "metadata": {},
   "outputs": [
    {
     "data": {
      "text/plain": [
       "2.4998281017161057"
      ]
     },
     "execution_count": 53,
     "metadata": {},
     "output_type": "execute_result"
    }
   ],
   "source": [
    "# l2 norm of A2\n",
    "norm(A2, 2)"
   ]
  },
  {
   "cell_type": "code",
   "execution_count": 54,
   "id": "4242c144",
   "metadata": {},
   "outputs": [
    {
     "data": {
      "text/plain": [
       "3.0"
      ]
     },
     "execution_count": 54,
     "metadata": {},
     "output_type": "execute_result"
    }
   ],
   "source": [
    "# l inf norm of A2\n",
    "norm(A2, np.inf)"
   ]
  },
  {
   "cell_type": "markdown",
   "id": "ed40a56c",
   "metadata": {},
   "source": [
    "Q2.2.3."
   ]
  },
  {
   "cell_type": "code",
   "execution_count": 55,
   "id": "a9108a54",
   "metadata": {},
   "outputs": [
    {
     "data": {
      "text/plain": [
       "array([[ -2,  -2,   3],\n",
       "       [-10,  -1,   6],\n",
       "       [ 10,  -2,  -9]])"
      ]
     },
     "execution_count": 55,
     "metadata": {},
     "output_type": "execute_result"
    }
   ],
   "source": [
    "A = np.array([[-2,-2,3],[-10,-1,6],[10,-2,-9]])\n",
    "A"
   ]
  },
  {
   "cell_type": "code",
   "execution_count": 56,
   "id": "2c75009d",
   "metadata": {},
   "outputs": [],
   "source": [
    "from numpy.linalg import eig"
   ]
  },
  {
   "cell_type": "code",
   "execution_count": 57,
   "id": "f31ccd07",
   "metadata": {},
   "outputs": [
    {
     "data": {
      "text/plain": [
       "array([-12.,   3.,  -3.])"
      ]
     },
     "execution_count": 57,
     "metadata": {},
     "output_type": "execute_result"
    }
   ],
   "source": [
    "#eigenvalues are at the index 1 of output, eigenvectores at index0\n",
    "eig(A)[0]"
   ]
  },
  {
   "cell_type": "markdown",
   "id": "4c0f7cb6",
   "metadata": {},
   "source": [
    "Q3. Panda\n",
    "\n",
    "Q3.1."
   ]
  },
  {
   "cell_type": "code",
   "execution_count": 58,
   "id": "c1e95e05",
   "metadata": {},
   "outputs": [],
   "source": [
    "import pandas as pd\n",
    "from pandas import Series, DataFrame"
   ]
  },
  {
   "cell_type": "code",
   "execution_count": 59,
   "id": "3464ea00",
   "metadata": {},
   "outputs": [
    {
     "name": "stderr",
     "output_type": "stream",
     "text": [
      "/Users/tongfeili/opt/anaconda3/lib/python3.9/site-packages/openpyxl/worksheet/_reader.py:312: UserWarning: Unknown extension is not supported and will be removed\n",
      "  warn(msg)\n"
     ]
    },
    {
     "data": {
      "text/html": [
       "<div>\n",
       "<style scoped>\n",
       "    .dataframe tbody tr th:only-of-type {\n",
       "        vertical-align: middle;\n",
       "    }\n",
       "\n",
       "    .dataframe tbody tr th {\n",
       "        vertical-align: top;\n",
       "    }\n",
       "\n",
       "    .dataframe thead th {\n",
       "        text-align: right;\n",
       "    }\n",
       "</style>\n",
       "<table border=\"1\" class=\"dataframe\">\n",
       "  <thead>\n",
       "    <tr style=\"text-align: right;\">\n",
       "      <th></th>\n",
       "      <th>Date</th>\n",
       "      <th>Price_pl</th>\n",
       "    </tr>\n",
       "  </thead>\n",
       "  <tbody>\n",
       "    <tr>\n",
       "      <th>0</th>\n",
       "      <td>12/11/2015</td>\n",
       "      <td>1.049</td>\n",
       "    </tr>\n",
       "    <tr>\n",
       "      <th>1</th>\n",
       "      <td>19/11/2015</td>\n",
       "      <td>0.999</td>\n",
       "    </tr>\n",
       "    <tr>\n",
       "      <th>2</th>\n",
       "      <td>7/12/2015</td>\n",
       "      <td>0.999</td>\n",
       "    </tr>\n",
       "    <tr>\n",
       "      <th>3</th>\n",
       "      <td>19/12/2015</td>\n",
       "      <td>1.019</td>\n",
       "    </tr>\n",
       "    <tr>\n",
       "      <th>4</th>\n",
       "      <td>04/01/2016</td>\n",
       "      <td>1.019</td>\n",
       "    </tr>\n",
       "    <tr>\n",
       "      <th>...</th>\n",
       "      <td>...</td>\n",
       "      <td>...</td>\n",
       "    </tr>\n",
       "    <tr>\n",
       "      <th>77</th>\n",
       "      <td>17/10/2018</td>\n",
       "      <td>1.209</td>\n",
       "    </tr>\n",
       "    <tr>\n",
       "      <th>78</th>\n",
       "      <td>01/11/2018</td>\n",
       "      <td>1.196</td>\n",
       "    </tr>\n",
       "    <tr>\n",
       "      <th>79</th>\n",
       "      <td>12/11/2018</td>\n",
       "      <td>1.126</td>\n",
       "    </tr>\n",
       "    <tr>\n",
       "      <th>80</th>\n",
       "      <td>27/11/2018</td>\n",
       "      <td>1.059</td>\n",
       "    </tr>\n",
       "    <tr>\n",
       "      <th>81</th>\n",
       "      <td>06/12/2018</td>\n",
       "      <td>1.016</td>\n",
       "    </tr>\n",
       "  </tbody>\n",
       "</table>\n",
       "<p>82 rows × 2 columns</p>\n",
       "</div>"
      ],
      "text/plain": [
       "          Date  Price_pl\n",
       "0   12/11/2015     1.049\n",
       "1   19/11/2015     0.999\n",
       "2    7/12/2015     0.999\n",
       "3   19/12/2015     1.019\n",
       "4   04/01/2016     1.019\n",
       "..         ...       ...\n",
       "77  17/10/2018     1.209\n",
       "78  01/11/2018     1.196\n",
       "79  12/11/2018     1.126\n",
       "80  27/11/2018     1.059\n",
       "81  06/12/2018     1.016\n",
       "\n",
       "[82 rows x 2 columns]"
      ]
     },
     "execution_count": 59,
     "metadata": {},
     "output_type": "execute_result"
    }
   ],
   "source": [
    "df = pd.read_excel('Gas_prices.xlsx')\n",
    "df"
   ]
  },
  {
   "cell_type": "code",
   "execution_count": 60,
   "id": "dcf84040",
   "metadata": {},
   "outputs": [
    {
     "name": "stderr",
     "output_type": "stream",
     "text": [
      "/var/folders/7z/6tf98rc93hs5zf3rfz6g5_zm0000gn/T/ipykernel_62571/3269262662.py:11: SettingWithCopyWarning: \n",
      "A value is trying to be set on a copy of a slice from a DataFrame\n",
      "\n",
      "See the caveats in the documentation: https://pandas.pydata.org/pandas-docs/stable/user_guide/indexing.html#returning-a-view-versus-a-copy\n",
      "  dff.Price_pl[i] = (prev+dff.Price_pl[k])/2\n"
     ]
    },
    {
     "data": {
      "text/html": [
       "<div>\n",
       "<style scoped>\n",
       "    .dataframe tbody tr th:only-of-type {\n",
       "        vertical-align: middle;\n",
       "    }\n",
       "\n",
       "    .dataframe tbody tr th {\n",
       "        vertical-align: top;\n",
       "    }\n",
       "\n",
       "    .dataframe thead th {\n",
       "        text-align: right;\n",
       "    }\n",
       "</style>\n",
       "<table border=\"1\" class=\"dataframe\">\n",
       "  <thead>\n",
       "    <tr style=\"text-align: right;\">\n",
       "      <th></th>\n",
       "      <th>Date</th>\n",
       "      <th>Price_pl</th>\n",
       "    </tr>\n",
       "  </thead>\n",
       "  <tbody>\n",
       "    <tr>\n",
       "      <th>0</th>\n",
       "      <td>12/11/2015</td>\n",
       "      <td>1.049</td>\n",
       "    </tr>\n",
       "    <tr>\n",
       "      <th>1</th>\n",
       "      <td>19/11/2015</td>\n",
       "      <td>0.999</td>\n",
       "    </tr>\n",
       "    <tr>\n",
       "      <th>2</th>\n",
       "      <td>7/12/2015</td>\n",
       "      <td>0.999</td>\n",
       "    </tr>\n",
       "    <tr>\n",
       "      <th>3</th>\n",
       "      <td>19/12/2015</td>\n",
       "      <td>1.019</td>\n",
       "    </tr>\n",
       "    <tr>\n",
       "      <th>4</th>\n",
       "      <td>04/01/2016</td>\n",
       "      <td>1.019</td>\n",
       "    </tr>\n",
       "    <tr>\n",
       "      <th>...</th>\n",
       "      <td>...</td>\n",
       "      <td>...</td>\n",
       "    </tr>\n",
       "    <tr>\n",
       "      <th>77</th>\n",
       "      <td>17/10/2018</td>\n",
       "      <td>1.209</td>\n",
       "    </tr>\n",
       "    <tr>\n",
       "      <th>78</th>\n",
       "      <td>01/11/2018</td>\n",
       "      <td>1.196</td>\n",
       "    </tr>\n",
       "    <tr>\n",
       "      <th>79</th>\n",
       "      <td>12/11/2018</td>\n",
       "      <td>1.126</td>\n",
       "    </tr>\n",
       "    <tr>\n",
       "      <th>80</th>\n",
       "      <td>27/11/2018</td>\n",
       "      <td>1.059</td>\n",
       "    </tr>\n",
       "    <tr>\n",
       "      <th>81</th>\n",
       "      <td>06/12/2018</td>\n",
       "      <td>1.016</td>\n",
       "    </tr>\n",
       "  </tbody>\n",
       "</table>\n",
       "<p>82 rows × 2 columns</p>\n",
       "</div>"
      ],
      "text/plain": [
       "          Date  Price_pl\n",
       "0   12/11/2015     1.049\n",
       "1   19/11/2015     0.999\n",
       "2    7/12/2015     0.999\n",
       "3   19/12/2015     1.019\n",
       "4   04/01/2016     1.019\n",
       "..         ...       ...\n",
       "77  17/10/2018     1.209\n",
       "78  01/11/2018     1.196\n",
       "79  12/11/2018     1.126\n",
       "80  27/11/2018     1.059\n",
       "81  06/12/2018     1.016\n",
       "\n",
       "[82 rows x 2 columns]"
      ]
     },
     "execution_count": 60,
     "metadata": {},
     "output_type": "execute_result"
    }
   ],
   "source": [
    "prev = 0\n",
    "def repl(dff):\n",
    "    for i in range(len(dff.Price_pl)):\n",
    "        if not pd.isna(dff.Price_pl[i]):\n",
    "            # keep track of previous values\n",
    "            prev = dff.Price_pl[i]\n",
    "        else: # run this when the value is null \n",
    "            for k in range(i+1,len(dff.Price_pl)):\n",
    "                if not pd.isna(dff.Price_pl[k]):\n",
    "                    # find the next value that is not null\n",
    "                    dff.Price_pl[i] = (prev+dff.Price_pl[k])/2\n",
    "                    prev = dff.Price_pl[i]\n",
    "                    break\n",
    "    return dff\n",
    "    \n",
    "    \n",
    "repl(df)"
   ]
  },
  {
   "cell_type": "markdown",
   "id": "0b75c10b",
   "metadata": {},
   "source": [
    "Q3.2."
   ]
  },
  {
   "cell_type": "code",
   "execution_count": 61,
   "id": "c3955bcf",
   "metadata": {},
   "outputs": [
    {
     "data": {
      "text/html": [
       "<div>\n",
       "<style scoped>\n",
       "    .dataframe tbody tr th:only-of-type {\n",
       "        vertical-align: middle;\n",
       "    }\n",
       "\n",
       "    .dataframe tbody tr th {\n",
       "        vertical-align: top;\n",
       "    }\n",
       "\n",
       "    .dataframe thead th {\n",
       "        text-align: right;\n",
       "    }\n",
       "</style>\n",
       "<table border=\"1\" class=\"dataframe\">\n",
       "  <thead>\n",
       "    <tr style=\"text-align: right;\">\n",
       "      <th></th>\n",
       "      <th>Date</th>\n",
       "      <th>Price_pl</th>\n",
       "    </tr>\n",
       "  </thead>\n",
       "  <tbody>\n",
       "    <tr>\n",
       "      <th>9</th>\n",
       "      <td>20/2/2016</td>\n",
       "      <td>0.8890</td>\n",
       "    </tr>\n",
       "    <tr>\n",
       "      <th>8</th>\n",
       "      <td>5/2/2016</td>\n",
       "      <td>0.9090</td>\n",
       "    </tr>\n",
       "    <tr>\n",
       "      <th>10</th>\n",
       "      <td>06/03/2016</td>\n",
       "      <td>0.9090</td>\n",
       "    </tr>\n",
       "    <tr>\n",
       "      <th>6</th>\n",
       "      <td>18/01/2016</td>\n",
       "      <td>0.9290</td>\n",
       "    </tr>\n",
       "    <tr>\n",
       "      <th>32</th>\n",
       "      <td>13/11/2016</td>\n",
       "      <td>0.9420</td>\n",
       "    </tr>\n",
       "    <tr>\n",
       "      <th>...</th>\n",
       "      <td>...</td>\n",
       "      <td>...</td>\n",
       "    </tr>\n",
       "    <tr>\n",
       "      <th>70</th>\n",
       "      <td>24/04/2018</td>\n",
       "      <td>1.2995</td>\n",
       "    </tr>\n",
       "    <tr>\n",
       "      <th>71</th>\n",
       "      <td>02/05/2018</td>\n",
       "      <td>1.3230</td>\n",
       "    </tr>\n",
       "    <tr>\n",
       "      <th>75</th>\n",
       "      <td>3/7/2018</td>\n",
       "      <td>1.3260</td>\n",
       "    </tr>\n",
       "    <tr>\n",
       "      <th>72</th>\n",
       "      <td>12/05/2018</td>\n",
       "      <td>1.3260</td>\n",
       "    </tr>\n",
       "    <tr>\n",
       "      <th>73</th>\n",
       "      <td>23/05/2018</td>\n",
       "      <td>1.3360</td>\n",
       "    </tr>\n",
       "  </tbody>\n",
       "</table>\n",
       "<p>82 rows × 2 columns</p>\n",
       "</div>"
      ],
      "text/plain": [
       "          Date  Price_pl\n",
       "9    20/2/2016    0.8890\n",
       "8     5/2/2016    0.9090\n",
       "10  06/03/2016    0.9090\n",
       "6   18/01/2016    0.9290\n",
       "32  13/11/2016    0.9420\n",
       "..         ...       ...\n",
       "70  24/04/2018    1.2995\n",
       "71  02/05/2018    1.3230\n",
       "75    3/7/2018    1.3260\n",
       "72  12/05/2018    1.3260\n",
       "73  23/05/2018    1.3360\n",
       "\n",
       "[82 rows x 2 columns]"
      ]
     },
     "execution_count": 61,
     "metadata": {},
     "output_type": "execute_result"
    }
   ],
   "source": [
    "df_new = df.sort_values(by=['Price_pl'])\n",
    "df_new"
   ]
  },
  {
   "cell_type": "code",
   "execution_count": 62,
   "id": "a7bbd07c",
   "metadata": {},
   "outputs": [
    {
     "name": "stdout",
     "output_type": "stream",
     "text": [
      "min gas price value: 0.889 , index: 9 , Date: 20/2/2016 , max gas price value: 1.336 , index: 73 , Date: 23/05/2018\n"
     ]
    }
   ],
   "source": [
    "print(\"min gas price value:\", df_new.Price_pl[df_new.index[0]], \", index:\", df_new.index[0], \n",
    "      \", Date:\", df_new.Date[df_new.index[0]], \n",
    "      \", max gas price value:\", df_new.Price_pl[df_new.index[81]],\n",
    "      \", index:\", df_new.index[81], \", Date:\", df_new.Date[df_new.index[81]])\n",
    "      "
   ]
  },
  {
   "cell_type": "markdown",
   "id": "2d80c8b8",
   "metadata": {},
   "source": [
    "Q3.3. Answer: mean is 1.095390, median is 1.079, 25% and 75% quantile is 1.01975 and 1.17175\n"
   ]
  },
  {
   "cell_type": "code",
   "execution_count": 63,
   "id": "104dae11",
   "metadata": {},
   "outputs": [
    {
     "data": {
      "text/html": [
       "<div>\n",
       "<style scoped>\n",
       "    .dataframe tbody tr th:only-of-type {\n",
       "        vertical-align: middle;\n",
       "    }\n",
       "\n",
       "    .dataframe tbody tr th {\n",
       "        vertical-align: top;\n",
       "    }\n",
       "\n",
       "    .dataframe thead th {\n",
       "        text-align: right;\n",
       "    }\n",
       "</style>\n",
       "<table border=\"1\" class=\"dataframe\">\n",
       "  <thead>\n",
       "    <tr style=\"text-align: right;\">\n",
       "      <th></th>\n",
       "      <th>Price_pl</th>\n",
       "    </tr>\n",
       "  </thead>\n",
       "  <tbody>\n",
       "    <tr>\n",
       "      <th>count</th>\n",
       "      <td>82.000000</td>\n",
       "    </tr>\n",
       "    <tr>\n",
       "      <th>mean</th>\n",
       "      <td>1.095390</td>\n",
       "    </tr>\n",
       "    <tr>\n",
       "      <th>std</th>\n",
       "      <td>0.107164</td>\n",
       "    </tr>\n",
       "    <tr>\n",
       "      <th>min</th>\n",
       "      <td>0.889000</td>\n",
       "    </tr>\n",
       "    <tr>\n",
       "      <th>25%</th>\n",
       "      <td>1.019750</td>\n",
       "    </tr>\n",
       "    <tr>\n",
       "      <th>50%</th>\n",
       "      <td>1.079000</td>\n",
       "    </tr>\n",
       "    <tr>\n",
       "      <th>75%</th>\n",
       "      <td>1.171750</td>\n",
       "    </tr>\n",
       "    <tr>\n",
       "      <th>max</th>\n",
       "      <td>1.336000</td>\n",
       "    </tr>\n",
       "  </tbody>\n",
       "</table>\n",
       "</div>"
      ],
      "text/plain": [
       "        Price_pl\n",
       "count  82.000000\n",
       "mean    1.095390\n",
       "std     0.107164\n",
       "min     0.889000\n",
       "25%     1.019750\n",
       "50%     1.079000\n",
       "75%     1.171750\n",
       "max     1.336000"
      ]
     },
     "execution_count": 63,
     "metadata": {},
     "output_type": "execute_result"
    }
   ],
   "source": [
    "# mean median quantile are outputed below\n",
    "df.describe()"
   ]
  },
  {
   "cell_type": "code",
   "execution_count": 64,
   "id": "eb73f168",
   "metadata": {},
   "outputs": [
    {
     "name": "stderr",
     "output_type": "stream",
     "text": [
      "/var/folders/7z/6tf98rc93hs5zf3rfz6g5_zm0000gn/T/ipykernel_62571/2730890998.py:2: FutureWarning: Dropping of nuisance columns in DataFrame reductions (with 'numeric_only=None') is deprecated; in a future version this will raise TypeError.  Select only valid columns before calling the reduction.\n",
      "  pd.DataFrame(df).skew(axis=0)\n"
     ]
    },
    {
     "data": {
      "text/plain": [
       "Price_pl    0.467526\n",
       "dtype: float64"
      ]
     },
     "execution_count": 64,
     "metadata": {},
     "output_type": "execute_result"
    }
   ],
   "source": [
    "# calculate skewness\n",
    "pd.DataFrame(df).skew(axis=0)"
   ]
  },
  {
   "cell_type": "code",
   "execution_count": 65,
   "id": "23a505a6",
   "metadata": {},
   "outputs": [
    {
     "name": "stderr",
     "output_type": "stream",
     "text": [
      "/var/folders/7z/6tf98rc93hs5zf3rfz6g5_zm0000gn/T/ipykernel_62571/3353613142.py:2: FutureWarning: Dropping of nuisance columns in DataFrame reductions (with 'numeric_only=None') is deprecated; in a future version this will raise TypeError.  Select only valid columns before calling the reduction.\n",
      "  pd.DataFrame(df).kurt(axis=0)\n"
     ]
    },
    {
     "data": {
      "text/plain": [
       "Price_pl   -0.257963\n",
       "dtype: float64"
      ]
     },
     "execution_count": 65,
     "metadata": {},
     "output_type": "execute_result"
    }
   ],
   "source": [
    "# calculate kurtosis\n",
    "pd.DataFrame(df).kurt(axis=0)"
   ]
  },
  {
   "cell_type": "markdown",
   "id": "c40a3a98",
   "metadata": {},
   "source": [
    "Q3.4."
   ]
  },
  {
   "cell_type": "code",
   "execution_count": 66,
   "id": "d4625831",
   "metadata": {},
   "outputs": [
    {
     "data": {
      "text/plain": [
       "9     2016\n",
       "8     2016\n",
       "10    2016\n",
       "6     2016\n",
       "32    2016\n",
       "      ... \n",
       "70    2018\n",
       "71    2018\n",
       "75    2018\n",
       "72    2018\n",
       "73    2018\n",
       "Name: Date, Length: 82, dtype: int64"
      ]
     },
     "execution_count": 66,
     "metadata": {},
     "output_type": "execute_result"
    }
   ],
   "source": [
    "# create new column for year\n",
    "Year = pd.to_datetime(df_new['Date'],infer_datetime_format=True).dt.year\n",
    "Year"
   ]
  },
  {
   "cell_type": "code",
   "execution_count": 67,
   "id": "4ab22cdb",
   "metadata": {},
   "outputs": [
    {
     "data": {
      "text/plain": [
       "9      2\n",
       "8      2\n",
       "10     3\n",
       "6      1\n",
       "32    11\n",
       "      ..\n",
       "70     4\n",
       "71     5\n",
       "75     7\n",
       "72     5\n",
       "73     5\n",
       "Name: Date, Length: 82, dtype: int64"
      ]
     },
     "execution_count": 67,
     "metadata": {},
     "output_type": "execute_result"
    }
   ],
   "source": [
    "# column for month\n",
    "Month = pd.to_datetime(df_new['Date'],infer_datetime_format=True).dt.month\n",
    "Month"
   ]
  },
  {
   "cell_type": "code",
   "execution_count": 68,
   "id": "71a2f5f4",
   "metadata": {},
   "outputs": [],
   "source": [
    "# add columns to table\n",
    "df_new['Year'] = Year\n",
    "df_new['Month'] = Month"
   ]
  },
  {
   "cell_type": "code",
   "execution_count": 69,
   "id": "c2490a57",
   "metadata": {},
   "outputs": [
    {
     "data": {
      "text/html": [
       "<div>\n",
       "<style scoped>\n",
       "    .dataframe tbody tr th:only-of-type {\n",
       "        vertical-align: middle;\n",
       "    }\n",
       "\n",
       "    .dataframe tbody tr th {\n",
       "        vertical-align: top;\n",
       "    }\n",
       "\n",
       "    .dataframe thead th {\n",
       "        text-align: right;\n",
       "    }\n",
       "</style>\n",
       "<table border=\"1\" class=\"dataframe\">\n",
       "  <thead>\n",
       "    <tr style=\"text-align: right;\">\n",
       "      <th></th>\n",
       "      <th>Date</th>\n",
       "      <th>Price_pl</th>\n",
       "      <th>Year</th>\n",
       "      <th>Month</th>\n",
       "    </tr>\n",
       "  </thead>\n",
       "  <tbody>\n",
       "    <tr>\n",
       "      <th>9</th>\n",
       "      <td>20/2/2016</td>\n",
       "      <td>0.8890</td>\n",
       "      <td>2016</td>\n",
       "      <td>2</td>\n",
       "    </tr>\n",
       "    <tr>\n",
       "      <th>8</th>\n",
       "      <td>5/2/2016</td>\n",
       "      <td>0.9090</td>\n",
       "      <td>2016</td>\n",
       "      <td>2</td>\n",
       "    </tr>\n",
       "    <tr>\n",
       "      <th>10</th>\n",
       "      <td>06/03/2016</td>\n",
       "      <td>0.9090</td>\n",
       "      <td>2016</td>\n",
       "      <td>3</td>\n",
       "    </tr>\n",
       "    <tr>\n",
       "      <th>6</th>\n",
       "      <td>18/01/2016</td>\n",
       "      <td>0.9290</td>\n",
       "      <td>2016</td>\n",
       "      <td>1</td>\n",
       "    </tr>\n",
       "    <tr>\n",
       "      <th>32</th>\n",
       "      <td>13/11/2016</td>\n",
       "      <td>0.9420</td>\n",
       "      <td>2016</td>\n",
       "      <td>11</td>\n",
       "    </tr>\n",
       "    <tr>\n",
       "      <th>...</th>\n",
       "      <td>...</td>\n",
       "      <td>...</td>\n",
       "      <td>...</td>\n",
       "      <td>...</td>\n",
       "    </tr>\n",
       "    <tr>\n",
       "      <th>70</th>\n",
       "      <td>24/04/2018</td>\n",
       "      <td>1.2995</td>\n",
       "      <td>2018</td>\n",
       "      <td>4</td>\n",
       "    </tr>\n",
       "    <tr>\n",
       "      <th>71</th>\n",
       "      <td>02/05/2018</td>\n",
       "      <td>1.3230</td>\n",
       "      <td>2018</td>\n",
       "      <td>5</td>\n",
       "    </tr>\n",
       "    <tr>\n",
       "      <th>75</th>\n",
       "      <td>3/7/2018</td>\n",
       "      <td>1.3260</td>\n",
       "      <td>2018</td>\n",
       "      <td>7</td>\n",
       "    </tr>\n",
       "    <tr>\n",
       "      <th>72</th>\n",
       "      <td>12/05/2018</td>\n",
       "      <td>1.3260</td>\n",
       "      <td>2018</td>\n",
       "      <td>5</td>\n",
       "    </tr>\n",
       "    <tr>\n",
       "      <th>73</th>\n",
       "      <td>23/05/2018</td>\n",
       "      <td>1.3360</td>\n",
       "      <td>2018</td>\n",
       "      <td>5</td>\n",
       "    </tr>\n",
       "  </tbody>\n",
       "</table>\n",
       "<p>82 rows × 4 columns</p>\n",
       "</div>"
      ],
      "text/plain": [
       "          Date  Price_pl  Year  Month\n",
       "9    20/2/2016    0.8890  2016      2\n",
       "8     5/2/2016    0.9090  2016      2\n",
       "10  06/03/2016    0.9090  2016      3\n",
       "6   18/01/2016    0.9290  2016      1\n",
       "32  13/11/2016    0.9420  2016     11\n",
       "..         ...       ...   ...    ...\n",
       "70  24/04/2018    1.2995  2018      4\n",
       "71  02/05/2018    1.3230  2018      5\n",
       "75    3/7/2018    1.3260  2018      7\n",
       "72  12/05/2018    1.3260  2018      5\n",
       "73  23/05/2018    1.3360  2018      5\n",
       "\n",
       "[82 rows x 4 columns]"
      ]
     },
     "execution_count": 69,
     "metadata": {},
     "output_type": "execute_result"
    }
   ],
   "source": [
    "df_new"
   ]
  },
  {
   "cell_type": "code",
   "execution_count": 70,
   "id": "4f9bd47c",
   "metadata": {},
   "outputs": [
    {
     "data": {
      "text/html": [
       "<div>\n",
       "<style scoped>\n",
       "    .dataframe tbody tr th:only-of-type {\n",
       "        vertical-align: middle;\n",
       "    }\n",
       "\n",
       "    .dataframe tbody tr th {\n",
       "        vertical-align: top;\n",
       "    }\n",
       "\n",
       "    .dataframe thead th {\n",
       "        text-align: right;\n",
       "    }\n",
       "</style>\n",
       "<table border=\"1\" class=\"dataframe\">\n",
       "  <thead>\n",
       "    <tr style=\"text-align: right;\">\n",
       "      <th></th>\n",
       "      <th>Price_pl</th>\n",
       "      <th>Year</th>\n",
       "      <th>Month</th>\n",
       "    </tr>\n",
       "  </thead>\n",
       "  <tbody>\n",
       "    <tr>\n",
       "      <th>9</th>\n",
       "      <td>0.8890</td>\n",
       "      <td>2016</td>\n",
       "      <td>2</td>\n",
       "    </tr>\n",
       "    <tr>\n",
       "      <th>8</th>\n",
       "      <td>0.9090</td>\n",
       "      <td>2016</td>\n",
       "      <td>2</td>\n",
       "    </tr>\n",
       "    <tr>\n",
       "      <th>10</th>\n",
       "      <td>0.9090</td>\n",
       "      <td>2016</td>\n",
       "      <td>3</td>\n",
       "    </tr>\n",
       "    <tr>\n",
       "      <th>6</th>\n",
       "      <td>0.9290</td>\n",
       "      <td>2016</td>\n",
       "      <td>1</td>\n",
       "    </tr>\n",
       "    <tr>\n",
       "      <th>32</th>\n",
       "      <td>0.9420</td>\n",
       "      <td>2016</td>\n",
       "      <td>11</td>\n",
       "    </tr>\n",
       "    <tr>\n",
       "      <th>...</th>\n",
       "      <td>...</td>\n",
       "      <td>...</td>\n",
       "      <td>...</td>\n",
       "    </tr>\n",
       "    <tr>\n",
       "      <th>70</th>\n",
       "      <td>1.2995</td>\n",
       "      <td>2018</td>\n",
       "      <td>4</td>\n",
       "    </tr>\n",
       "    <tr>\n",
       "      <th>71</th>\n",
       "      <td>1.3230</td>\n",
       "      <td>2018</td>\n",
       "      <td>5</td>\n",
       "    </tr>\n",
       "    <tr>\n",
       "      <th>75</th>\n",
       "      <td>1.3260</td>\n",
       "      <td>2018</td>\n",
       "      <td>7</td>\n",
       "    </tr>\n",
       "    <tr>\n",
       "      <th>72</th>\n",
       "      <td>1.3260</td>\n",
       "      <td>2018</td>\n",
       "      <td>5</td>\n",
       "    </tr>\n",
       "    <tr>\n",
       "      <th>73</th>\n",
       "      <td>1.3360</td>\n",
       "      <td>2018</td>\n",
       "      <td>5</td>\n",
       "    </tr>\n",
       "  </tbody>\n",
       "</table>\n",
       "<p>82 rows × 3 columns</p>\n",
       "</div>"
      ],
      "text/plain": [
       "    Price_pl  Year  Month\n",
       "9     0.8890  2016      2\n",
       "8     0.9090  2016      2\n",
       "10    0.9090  2016      3\n",
       "6     0.9290  2016      1\n",
       "32    0.9420  2016     11\n",
       "..       ...   ...    ...\n",
       "70    1.2995  2018      4\n",
       "71    1.3230  2018      5\n",
       "75    1.3260  2018      7\n",
       "72    1.3260  2018      5\n",
       "73    1.3360  2018      5\n",
       "\n",
       "[82 rows x 3 columns]"
      ]
     },
     "execution_count": 70,
     "metadata": {},
     "output_type": "execute_result"
    }
   ],
   "source": [
    "# drop date because it is not needed in the following steps\n",
    "dff = df_new.drop('Date', axis=1)\n",
    "dff"
   ]
  },
  {
   "cell_type": "code",
   "execution_count": 71,
   "id": "80f56bcc",
   "metadata": {},
   "outputs": [
    {
     "data": {
      "text/html": [
       "<div>\n",
       "<style scoped>\n",
       "    .dataframe tbody tr th:only-of-type {\n",
       "        vertical-align: middle;\n",
       "    }\n",
       "\n",
       "    .dataframe tbody tr th {\n",
       "        vertical-align: top;\n",
       "    }\n",
       "\n",
       "    .dataframe thead th {\n",
       "        text-align: right;\n",
       "    }\n",
       "</style>\n",
       "<table border=\"1\" class=\"dataframe\">\n",
       "  <thead>\n",
       "    <tr style=\"text-align: right;\">\n",
       "      <th></th>\n",
       "      <th>Price_pl</th>\n",
       "      <th>Year</th>\n",
       "    </tr>\n",
       "    <tr>\n",
       "      <th>Month</th>\n",
       "      <th></th>\n",
       "      <th></th>\n",
       "    </tr>\n",
       "  </thead>\n",
       "  <tbody>\n",
       "    <tr>\n",
       "      <th>2</th>\n",
       "      <td>0.8890</td>\n",
       "      <td>2016</td>\n",
       "    </tr>\n",
       "    <tr>\n",
       "      <th>2</th>\n",
       "      <td>0.9090</td>\n",
       "      <td>2016</td>\n",
       "    </tr>\n",
       "    <tr>\n",
       "      <th>3</th>\n",
       "      <td>0.9090</td>\n",
       "      <td>2016</td>\n",
       "    </tr>\n",
       "    <tr>\n",
       "      <th>1</th>\n",
       "      <td>0.9290</td>\n",
       "      <td>2016</td>\n",
       "    </tr>\n",
       "    <tr>\n",
       "      <th>11</th>\n",
       "      <td>0.9420</td>\n",
       "      <td>2016</td>\n",
       "    </tr>\n",
       "    <tr>\n",
       "      <th>...</th>\n",
       "      <td>...</td>\n",
       "      <td>...</td>\n",
       "    </tr>\n",
       "    <tr>\n",
       "      <th>4</th>\n",
       "      <td>1.2995</td>\n",
       "      <td>2018</td>\n",
       "    </tr>\n",
       "    <tr>\n",
       "      <th>5</th>\n",
       "      <td>1.3230</td>\n",
       "      <td>2018</td>\n",
       "    </tr>\n",
       "    <tr>\n",
       "      <th>7</th>\n",
       "      <td>1.3260</td>\n",
       "      <td>2018</td>\n",
       "    </tr>\n",
       "    <tr>\n",
       "      <th>5</th>\n",
       "      <td>1.3260</td>\n",
       "      <td>2018</td>\n",
       "    </tr>\n",
       "    <tr>\n",
       "      <th>5</th>\n",
       "      <td>1.3360</td>\n",
       "      <td>2018</td>\n",
       "    </tr>\n",
       "  </tbody>\n",
       "</table>\n",
       "<p>82 rows × 2 columns</p>\n",
       "</div>"
      ],
      "text/plain": [
       "       Price_pl  Year\n",
       "Month                \n",
       "2        0.8890  2016\n",
       "2        0.9090  2016\n",
       "3        0.9090  2016\n",
       "1        0.9290  2016\n",
       "11       0.9420  2016\n",
       "...         ...   ...\n",
       "4        1.2995  2018\n",
       "5        1.3230  2018\n",
       "7        1.3260  2018\n",
       "5        1.3260  2018\n",
       "5        1.3360  2018\n",
       "\n",
       "[82 rows x 2 columns]"
      ]
     },
     "execution_count": 71,
     "metadata": {},
     "output_type": "execute_result"
    }
   ],
   "source": [
    "# dff is the data set to generate table for Q4\n",
    "dff.index = dff.Month\n",
    "# month is already index, so it doesn't need to appear in values\n",
    "dff.drop('Month', axis=1, inplace = True)\n",
    "dff"
   ]
  },
  {
   "cell_type": "code",
   "execution_count": 72,
   "id": "3cbf6bdb",
   "metadata": {},
   "outputs": [
    {
     "data": {
      "text/html": [
       "<div>\n",
       "<style scoped>\n",
       "    .dataframe tbody tr th:only-of-type {\n",
       "        vertical-align: middle;\n",
       "    }\n",
       "\n",
       "    .dataframe tbody tr th {\n",
       "        vertical-align: top;\n",
       "    }\n",
       "\n",
       "    .dataframe thead tr th {\n",
       "        text-align: left;\n",
       "    }\n",
       "\n",
       "    .dataframe thead tr:last-of-type th {\n",
       "        text-align: right;\n",
       "    }\n",
       "</style>\n",
       "<table border=\"1\" class=\"dataframe\">\n",
       "  <thead>\n",
       "    <tr>\n",
       "      <th></th>\n",
       "      <th colspan=\"4\" halign=\"left\">Price_pl</th>\n",
       "    </tr>\n",
       "    <tr>\n",
       "      <th>Year</th>\n",
       "      <th>2015</th>\n",
       "      <th>2016</th>\n",
       "      <th>2017</th>\n",
       "      <th>2018</th>\n",
       "    </tr>\n",
       "    <tr>\n",
       "      <th>Month</th>\n",
       "      <th></th>\n",
       "      <th></th>\n",
       "      <th></th>\n",
       "      <th></th>\n",
       "    </tr>\n",
       "  </thead>\n",
       "  <tbody>\n",
       "    <tr>\n",
       "      <th>1</th>\n",
       "      <td>0.000</td>\n",
       "      <td>0.964000</td>\n",
       "      <td>1.119000</td>\n",
       "      <td>1.197500</td>\n",
       "    </tr>\n",
       "    <tr>\n",
       "      <th>2</th>\n",
       "      <td>0.000</td>\n",
       "      <td>0.899000</td>\n",
       "      <td>1.079000</td>\n",
       "      <td>1.186000</td>\n",
       "    </tr>\n",
       "    <tr>\n",
       "      <th>3</th>\n",
       "      <td>0.000</td>\n",
       "      <td>0.929000</td>\n",
       "      <td>1.075000</td>\n",
       "      <td>1.215000</td>\n",
       "    </tr>\n",
       "    <tr>\n",
       "      <th>4</th>\n",
       "      <td>0.000</td>\n",
       "      <td>1.031500</td>\n",
       "      <td>1.175667</td>\n",
       "      <td>1.287750</td>\n",
       "    </tr>\n",
       "    <tr>\n",
       "      <th>5</th>\n",
       "      <td>0.000</td>\n",
       "      <td>1.075667</td>\n",
       "      <td>1.109000</td>\n",
       "      <td>1.328333</td>\n",
       "    </tr>\n",
       "    <tr>\n",
       "      <th>6</th>\n",
       "      <td>0.000</td>\n",
       "      <td>1.048000</td>\n",
       "      <td>1.022000</td>\n",
       "      <td>1.289000</td>\n",
       "    </tr>\n",
       "    <tr>\n",
       "      <th>7</th>\n",
       "      <td>0.000</td>\n",
       "      <td>1.024000</td>\n",
       "      <td>1.059000</td>\n",
       "      <td>1.312500</td>\n",
       "    </tr>\n",
       "    <tr>\n",
       "      <th>8</th>\n",
       "      <td>0.000</td>\n",
       "      <td>0.993875</td>\n",
       "      <td>1.100667</td>\n",
       "      <td>0.000000</td>\n",
       "    </tr>\n",
       "    <tr>\n",
       "      <th>9</th>\n",
       "      <td>0.000</td>\n",
       "      <td>0.999000</td>\n",
       "      <td>1.086000</td>\n",
       "      <td>0.000000</td>\n",
       "    </tr>\n",
       "    <tr>\n",
       "      <th>10</th>\n",
       "      <td>0.000</td>\n",
       "      <td>1.049000</td>\n",
       "      <td>1.126000</td>\n",
       "      <td>1.209000</td>\n",
       "    </tr>\n",
       "    <tr>\n",
       "      <th>11</th>\n",
       "      <td>1.024</td>\n",
       "      <td>0.949000</td>\n",
       "      <td>1.183000</td>\n",
       "      <td>1.127000</td>\n",
       "    </tr>\n",
       "    <tr>\n",
       "      <th>12</th>\n",
       "      <td>1.009</td>\n",
       "      <td>1.074000</td>\n",
       "      <td>1.211000</td>\n",
       "      <td>1.016000</td>\n",
       "    </tr>\n",
       "  </tbody>\n",
       "</table>\n",
       "</div>"
      ],
      "text/plain": [
       "      Price_pl                              \n",
       "Year      2015      2016      2017      2018\n",
       "Month                                       \n",
       "1        0.000  0.964000  1.119000  1.197500\n",
       "2        0.000  0.899000  1.079000  1.186000\n",
       "3        0.000  0.929000  1.075000  1.215000\n",
       "4        0.000  1.031500  1.175667  1.287750\n",
       "5        0.000  1.075667  1.109000  1.328333\n",
       "6        0.000  1.048000  1.022000  1.289000\n",
       "7        0.000  1.024000  1.059000  1.312500\n",
       "8        0.000  0.993875  1.100667  0.000000\n",
       "9        0.000  0.999000  1.086000  0.000000\n",
       "10       0.000  1.049000  1.126000  1.209000\n",
       "11       1.024  0.949000  1.183000  1.127000\n",
       "12       1.009  1.074000  1.211000  1.016000"
      ]
     },
     "execution_count": 72,
     "metadata": {},
     "output_type": "execute_result"
    }
   ],
   "source": [
    "tb = pd.pivot_table(dff,index=[\"Month\"],\n",
    "               values=[\"Price_pl\"],\n",
    "               fill_value = 0,\n",
    "               columns=[\"Year\"]\n",
    "                      )\n",
    "tb"
   ]
  },
  {
   "cell_type": "code",
   "execution_count": 73,
   "id": "03532103",
   "metadata": {},
   "outputs": [
    {
     "data": {
      "text/plain": [
       "Text(0, 0.5, 'average price')"
      ]
     },
     "execution_count": 73,
     "metadata": {},
     "output_type": "execute_result"
    },
    {
     "data": {
      "image/png": "[encoded data removed]",
      "text/plain": [
       "<Figure size 432x288 with 1 Axes>"
      ]
     },
     "metadata": {
      "needs_background": "light"
     },
     "output_type": "display_data"
    }
   ],
   "source": [
    "import matplotlib.pyplot as plt\n",
    "# monthly average gas price vs month in each year\n",
    "tb.plot()\n",
    "plt.ylabel('average price')"
   ]
  },
  {
   "cell_type": "markdown",
   "id": "5f86d6fc",
   "metadata": {},
   "source": [
    "Q3.5."
   ]
  },
  {
   "cell_type": "code",
   "execution_count": 74,
   "id": "4ccc3c3f",
   "metadata": {},
   "outputs": [
    {
     "data": {
      "text/html": [
       "<div>\n",
       "<style scoped>\n",
       "    .dataframe tbody tr th:only-of-type {\n",
       "        vertical-align: middle;\n",
       "    }\n",
       "\n",
       "    .dataframe tbody tr th {\n",
       "        vertical-align: top;\n",
       "    }\n",
       "\n",
       "    .dataframe thead th {\n",
       "        text-align: right;\n",
       "    }\n",
       "</style>\n",
       "<table border=\"1\" class=\"dataframe\">\n",
       "  <thead>\n",
       "    <tr style=\"text-align: right;\">\n",
       "      <th></th>\n",
       "      <th>Price_pl</th>\n",
       "      <th>Year</th>\n",
       "      <th>Month</th>\n",
       "    </tr>\n",
       "  </thead>\n",
       "  <tbody>\n",
       "    <tr>\n",
       "      <th>0</th>\n",
       "      <td>1.049</td>\n",
       "      <td>2015</td>\n",
       "      <td>11</td>\n",
       "    </tr>\n",
       "    <tr>\n",
       "      <th>1</th>\n",
       "      <td>0.999</td>\n",
       "      <td>2015</td>\n",
       "      <td>11</td>\n",
       "    </tr>\n",
       "    <tr>\n",
       "      <th>2</th>\n",
       "      <td>0.999</td>\n",
       "      <td>2015</td>\n",
       "      <td>12</td>\n",
       "    </tr>\n",
       "    <tr>\n",
       "      <th>3</th>\n",
       "      <td>1.019</td>\n",
       "      <td>2015</td>\n",
       "      <td>12</td>\n",
       "    </tr>\n",
       "    <tr>\n",
       "      <th>4</th>\n",
       "      <td>1.019</td>\n",
       "      <td>2016</td>\n",
       "      <td>1</td>\n",
       "    </tr>\n",
       "    <tr>\n",
       "      <th>...</th>\n",
       "      <td>...</td>\n",
       "      <td>...</td>\n",
       "      <td>...</td>\n",
       "    </tr>\n",
       "    <tr>\n",
       "      <th>77</th>\n",
       "      <td>1.209</td>\n",
       "      <td>2018</td>\n",
       "      <td>10</td>\n",
       "    </tr>\n",
       "    <tr>\n",
       "      <th>78</th>\n",
       "      <td>1.196</td>\n",
       "      <td>2018</td>\n",
       "      <td>11</td>\n",
       "    </tr>\n",
       "    <tr>\n",
       "      <th>79</th>\n",
       "      <td>1.126</td>\n",
       "      <td>2018</td>\n",
       "      <td>11</td>\n",
       "    </tr>\n",
       "    <tr>\n",
       "      <th>80</th>\n",
       "      <td>1.059</td>\n",
       "      <td>2018</td>\n",
       "      <td>11</td>\n",
       "    </tr>\n",
       "    <tr>\n",
       "      <th>81</th>\n",
       "      <td>1.016</td>\n",
       "      <td>2018</td>\n",
       "      <td>12</td>\n",
       "    </tr>\n",
       "  </tbody>\n",
       "</table>\n",
       "<p>82 rows × 3 columns</p>\n",
       "</div>"
      ],
      "text/plain": [
       "    Price_pl  Year  Month\n",
       "0      1.049  2015     11\n",
       "1      0.999  2015     11\n",
       "2      0.999  2015     12\n",
       "3      1.019  2015     12\n",
       "4      1.019  2016      1\n",
       "..       ...   ...    ...\n",
       "77     1.209  2018     10\n",
       "78     1.196  2018     11\n",
       "79     1.126  2018     11\n",
       "80     1.059  2018     11\n",
       "81     1.016  2018     12\n",
       "\n",
       "[82 rows x 3 columns]"
      ]
     },
     "execution_count": 74,
     "metadata": {},
     "output_type": "execute_result"
    }
   ],
   "source": [
    "# df5 is the dataframe we need for this question, also drop date because we don't need it in the following steps\n",
    "df5 = df_new.sort_index(axis=0)\n",
    "df5 = df5.drop('Date', axis=1)\n",
    "df5"
   ]
  },
  {
   "cell_type": "code",
   "execution_count": 75,
   "id": "19f2a6cd",
   "metadata": {},
   "outputs": [
    {
     "data": {
      "text/html": [
       "<div>\n",
       "<style scoped>\n",
       "    .dataframe tbody tr th:only-of-type {\n",
       "        vertical-align: middle;\n",
       "    }\n",
       "\n",
       "    .dataframe tbody tr th {\n",
       "        vertical-align: top;\n",
       "    }\n",
       "\n",
       "    .dataframe thead th {\n",
       "        text-align: right;\n",
       "    }\n",
       "</style>\n",
       "<table border=\"1\" class=\"dataframe\">\n",
       "  <thead>\n",
       "    <tr style=\"text-align: right;\">\n",
       "      <th></th>\n",
       "      <th>Price_pl</th>\n",
       "      <th>Year</th>\n",
       "      <th>Month</th>\n",
       "      <th>Season</th>\n",
       "    </tr>\n",
       "  </thead>\n",
       "  <tbody>\n",
       "    <tr>\n",
       "      <th>0</th>\n",
       "      <td>1.049</td>\n",
       "      <td>2015</td>\n",
       "      <td>11</td>\n",
       "      <td>Fall</td>\n",
       "    </tr>\n",
       "    <tr>\n",
       "      <th>1</th>\n",
       "      <td>0.999</td>\n",
       "      <td>2015</td>\n",
       "      <td>11</td>\n",
       "      <td>Fall</td>\n",
       "    </tr>\n",
       "    <tr>\n",
       "      <th>2</th>\n",
       "      <td>0.999</td>\n",
       "      <td>2015</td>\n",
       "      <td>12</td>\n",
       "      <td>Winter</td>\n",
       "    </tr>\n",
       "    <tr>\n",
       "      <th>3</th>\n",
       "      <td>1.019</td>\n",
       "      <td>2015</td>\n",
       "      <td>12</td>\n",
       "      <td>Winter</td>\n",
       "    </tr>\n",
       "    <tr>\n",
       "      <th>4</th>\n",
       "      <td>1.019</td>\n",
       "      <td>2016</td>\n",
       "      <td>1</td>\n",
       "      <td>Winter</td>\n",
       "    </tr>\n",
       "    <tr>\n",
       "      <th>...</th>\n",
       "      <td>...</td>\n",
       "      <td>...</td>\n",
       "      <td>...</td>\n",
       "      <td>...</td>\n",
       "    </tr>\n",
       "    <tr>\n",
       "      <th>77</th>\n",
       "      <td>1.209</td>\n",
       "      <td>2018</td>\n",
       "      <td>10</td>\n",
       "      <td>Fall</td>\n",
       "    </tr>\n",
       "    <tr>\n",
       "      <th>78</th>\n",
       "      <td>1.196</td>\n",
       "      <td>2018</td>\n",
       "      <td>11</td>\n",
       "      <td>Fall</td>\n",
       "    </tr>\n",
       "    <tr>\n",
       "      <th>79</th>\n",
       "      <td>1.126</td>\n",
       "      <td>2018</td>\n",
       "      <td>11</td>\n",
       "      <td>Fall</td>\n",
       "    </tr>\n",
       "    <tr>\n",
       "      <th>80</th>\n",
       "      <td>1.059</td>\n",
       "      <td>2018</td>\n",
       "      <td>11</td>\n",
       "      <td>Fall</td>\n",
       "    </tr>\n",
       "    <tr>\n",
       "      <th>81</th>\n",
       "      <td>1.016</td>\n",
       "      <td>2018</td>\n",
       "      <td>12</td>\n",
       "      <td>Winter</td>\n",
       "    </tr>\n",
       "  </tbody>\n",
       "</table>\n",
       "<p>82 rows × 4 columns</p>\n",
       "</div>"
      ],
      "text/plain": [
       "    Price_pl  Year  Month  Season\n",
       "0      1.049  2015     11    Fall\n",
       "1      0.999  2015     11    Fall\n",
       "2      0.999  2015     12  Winter\n",
       "3      1.019  2015     12  Winter\n",
       "4      1.019  2016      1  Winter\n",
       "..       ...   ...    ...     ...\n",
       "77     1.209  2018     10    Fall\n",
       "78     1.196  2018     11    Fall\n",
       "79     1.126  2018     11    Fall\n",
       "80     1.059  2018     11    Fall\n",
       "81     1.016  2018     12  Winter\n",
       "\n",
       "[82 rows x 4 columns]"
      ]
     },
     "execution_count": 75,
     "metadata": {},
     "output_type": "execute_result"
    }
   ],
   "source": [
    "# create the list for season\n",
    "season=[]\n",
    "for i in range(len(df5['Month'])):\n",
    "    # match the month to season, winter is month 12, 1, 2 \n",
    "    if df5['Month'][i] <= 2 or df5['Month'][i] == 12:\n",
    "        season.append('Winter')\n",
    "    elif df5['Month'][i] >= 3 and df5['Month'][i] <= 5:\n",
    "        season.append('Spring')\n",
    "    elif df5['Month'][i] >= 6 and df5['Month'][i] <= 8:\n",
    "        season.append('Summer')\n",
    "    else:\n",
    "        season.append('Fall')\n",
    "df5['Season'] = season\n",
    "# data frame with corresponded seasons column\n",
    "df5"
   ]
  },
  {
   "cell_type": "code",
   "execution_count": 76,
   "id": "b1a50601",
   "metadata": {},
   "outputs": [
    {
     "data": {
      "text/html": [
       "<div>\n",
       "<style scoped>\n",
       "    .dataframe tbody tr th:only-of-type {\n",
       "        vertical-align: middle;\n",
       "    }\n",
       "\n",
       "    .dataframe tbody tr th {\n",
       "        vertical-align: top;\n",
       "    }\n",
       "\n",
       "    .dataframe thead th {\n",
       "        text-align: right;\n",
       "    }\n",
       "</style>\n",
       "<table border=\"1\" class=\"dataframe\">\n",
       "  <thead>\n",
       "    <tr style=\"text-align: right;\">\n",
       "      <th></th>\n",
       "      <th>Price_pl</th>\n",
       "    </tr>\n",
       "    <tr>\n",
       "      <th>Season</th>\n",
       "      <th></th>\n",
       "    </tr>\n",
       "  </thead>\n",
       "  <tbody>\n",
       "    <tr>\n",
       "      <th>Fall</th>\n",
       "      <td>1.073429</td>\n",
       "    </tr>\n",
       "    <tr>\n",
       "      <th>Spring</th>\n",
       "      <td>1.133019</td>\n",
       "    </tr>\n",
       "    <tr>\n",
       "      <th>Summer</th>\n",
       "      <td>1.086147</td>\n",
       "    </tr>\n",
       "    <tr>\n",
       "      <th>Winter</th>\n",
       "      <td>1.072417</td>\n",
       "    </tr>\n",
       "  </tbody>\n",
       "</table>\n",
       "</div>"
      ],
      "text/plain": [
       "        Price_pl\n",
       "Season          \n",
       "Fall    1.073429\n",
       "Spring  1.133019\n",
       "Summer  1.086147\n",
       "Winter  1.072417"
      ]
     },
     "execution_count": 76,
     "metadata": {},
     "output_type": "execute_result"
    }
   ],
   "source": [
    "# table of each seasons' average price regardless of years\n",
    "tb5 = pd.pivot_table(df5,index=[\"Season\"],\n",
    "               values=[\"Price_pl\"],\n",
    "               fill_value = 0, )\n",
    "tb5"
   ]
  },
  {
   "cell_type": "markdown",
   "id": "80ff8759",
   "metadata": {},
   "source": [
    "Q4. Pivot, aggregate and plot timeseries\n",
    "\n",
    "Q4.1."
   ]
  },
  {
   "cell_type": "code",
   "execution_count": 77,
   "id": "8a1ef4c6",
   "metadata": {},
   "outputs": [
    {
     "name": "stderr",
     "output_type": "stream",
     "text": [
      "/Users/tongfeili/opt/anaconda3/lib/python3.9/site-packages/openpyxl/worksheet/_reader.py:312: UserWarning: Unknown extension is not supported and will be removed\n",
      "  warn(msg)\n"
     ]
    },
    {
     "data": {
      "text/html": [
       "<div>\n",
       "<style scoped>\n",
       "    .dataframe tbody tr th:only-of-type {\n",
       "        vertical-align: middle;\n",
       "    }\n",
       "\n",
       "    .dataframe tbody tr th {\n",
       "        vertical-align: top;\n",
       "    }\n",
       "\n",
       "    .dataframe thead th {\n",
       "        text-align: right;\n",
       "    }\n",
       "</style>\n",
       "<table border=\"1\" class=\"dataframe\">\n",
       "  <thead>\n",
       "    <tr style=\"text-align: right;\">\n",
       "      <th></th>\n",
       "      <th>MonthYear</th>\n",
       "      <th>Sales</th>\n",
       "      <th>AveragePrice</th>\n",
       "    </tr>\n",
       "  </thead>\n",
       "  <tbody>\n",
       "    <tr>\n",
       "      <th>0</th>\n",
       "      <td>January-2017</td>\n",
       "      <td>5155</td>\n",
       "      <td>768351</td>\n",
       "    </tr>\n",
       "    <tr>\n",
       "      <th>1</th>\n",
       "      <td>February-2017</td>\n",
       "      <td>7955</td>\n",
       "      <td>876363</td>\n",
       "    </tr>\n",
       "    <tr>\n",
       "      <th>2</th>\n",
       "      <td>March-2017</td>\n",
       "      <td>11959</td>\n",
       "      <td>915353</td>\n",
       "    </tr>\n",
       "    <tr>\n",
       "      <th>3</th>\n",
       "      <td>April-2017</td>\n",
       "      <td>11470</td>\n",
       "      <td>918138</td>\n",
       "    </tr>\n",
       "    <tr>\n",
       "      <th>4</th>\n",
       "      <td>May-2017</td>\n",
       "      <td>10068</td>\n",
       "      <td>862109</td>\n",
       "    </tr>\n",
       "    <tr>\n",
       "      <th>5</th>\n",
       "      <td>June-2017</td>\n",
       "      <td>7896</td>\n",
       "      <td>791949</td>\n",
       "    </tr>\n",
       "    <tr>\n",
       "      <th>6</th>\n",
       "      <td>July-2017</td>\n",
       "      <td>5871</td>\n",
       "      <td>745909</td>\n",
       "    </tr>\n",
       "    <tr>\n",
       "      <th>7</th>\n",
       "      <td>August-2017</td>\n",
       "      <td>6310</td>\n",
       "      <td>731606</td>\n",
       "    </tr>\n",
       "    <tr>\n",
       "      <th>8</th>\n",
       "      <td>September-2017</td>\n",
       "      <td>6340</td>\n",
       "      <td>774946</td>\n",
       "    </tr>\n",
       "    <tr>\n",
       "      <th>9</th>\n",
       "      <td>October-2017</td>\n",
       "      <td>7087</td>\n",
       "      <td>780643</td>\n",
       "    </tr>\n",
       "    <tr>\n",
       "      <th>10</th>\n",
       "      <td>November-2017</td>\n",
       "      <td>7353</td>\n",
       "      <td>761985</td>\n",
       "    </tr>\n",
       "    <tr>\n",
       "      <th>11</th>\n",
       "      <td>December-2017</td>\n",
       "      <td>4930</td>\n",
       "      <td>735021</td>\n",
       "    </tr>\n",
       "    <tr>\n",
       "      <th>12</th>\n",
       "      <td>January-2016</td>\n",
       "      <td>4640</td>\n",
       "      <td>630193</td>\n",
       "    </tr>\n",
       "    <tr>\n",
       "      <th>13</th>\n",
       "      <td>February-2016</td>\n",
       "      <td>7582</td>\n",
       "      <td>685628</td>\n",
       "    </tr>\n",
       "    <tr>\n",
       "      <th>14</th>\n",
       "      <td>March-2016</td>\n",
       "      <td>10260</td>\n",
       "      <td>688011</td>\n",
       "    </tr>\n",
       "    <tr>\n",
       "      <th>15</th>\n",
       "      <td>April-2016</td>\n",
       "      <td>12016</td>\n",
       "      <td>739762</td>\n",
       "    </tr>\n",
       "    <tr>\n",
       "      <th>16</th>\n",
       "      <td>May-2016</td>\n",
       "      <td>12789</td>\n",
       "      <td>752068</td>\n",
       "    </tr>\n",
       "    <tr>\n",
       "      <th>17</th>\n",
       "      <td>June-2016</td>\n",
       "      <td>12725</td>\n",
       "      <td>747018</td>\n",
       "    </tr>\n",
       "    <tr>\n",
       "      <th>18</th>\n",
       "      <td>July-2016</td>\n",
       "      <td>9929</td>\n",
       "      <td>710471</td>\n",
       "    </tr>\n",
       "    <tr>\n",
       "      <th>19</th>\n",
       "      <td>August-2016</td>\n",
       "      <td>9748</td>\n",
       "      <td>710978</td>\n",
       "    </tr>\n",
       "    <tr>\n",
       "      <th>20</th>\n",
       "      <td>September-2016</td>\n",
       "      <td>9828</td>\n",
       "      <td>756104</td>\n",
       "    </tr>\n",
       "    <tr>\n",
       "      <th>21</th>\n",
       "      <td>October-2016</td>\n",
       "      <td>9715</td>\n",
       "      <td>762691</td>\n",
       "    </tr>\n",
       "    <tr>\n",
       "      <th>22</th>\n",
       "      <td>November-2016</td>\n",
       "      <td>8503</td>\n",
       "      <td>777091</td>\n",
       "    </tr>\n",
       "    <tr>\n",
       "      <th>23</th>\n",
       "      <td>December-2016</td>\n",
       "      <td>5305</td>\n",
       "      <td>730124</td>\n",
       "    </tr>\n",
       "    <tr>\n",
       "      <th>24</th>\n",
       "      <td>January-2015</td>\n",
       "      <td>4318</td>\n",
       "      <td>552925</td>\n",
       "    </tr>\n",
       "    <tr>\n",
       "      <th>25</th>\n",
       "      <td>February-2015</td>\n",
       "      <td>6294</td>\n",
       "      <td>596320</td>\n",
       "    </tr>\n",
       "    <tr>\n",
       "      <th>26</th>\n",
       "      <td>March-2015</td>\n",
       "      <td>8886</td>\n",
       "      <td>613818</td>\n",
       "    </tr>\n",
       "    <tr>\n",
       "      <th>27</th>\n",
       "      <td>April-2015</td>\n",
       "      <td>11254</td>\n",
       "      <td>636094</td>\n",
       "    </tr>\n",
       "    <tr>\n",
       "      <th>28</th>\n",
       "      <td>May-2015</td>\n",
       "      <td>11640</td>\n",
       "      <td>649648</td>\n",
       "    </tr>\n",
       "    <tr>\n",
       "      <th>29</th>\n",
       "      <td>June-2015</td>\n",
       "      <td>11905</td>\n",
       "      <td>639309</td>\n",
       "    </tr>\n",
       "    <tr>\n",
       "      <th>30</th>\n",
       "      <td>July-2015</td>\n",
       "      <td>9813</td>\n",
       "      <td>608875</td>\n",
       "    </tr>\n",
       "    <tr>\n",
       "      <th>31</th>\n",
       "      <td>August-2015</td>\n",
       "      <td>7943</td>\n",
       "      <td>603534</td>\n",
       "    </tr>\n",
       "    <tr>\n",
       "      <th>32</th>\n",
       "      <td>September-2015</td>\n",
       "      <td>8147</td>\n",
       "      <td>627867</td>\n",
       "    </tr>\n",
       "    <tr>\n",
       "      <th>33</th>\n",
       "      <td>October-2015</td>\n",
       "      <td>8759</td>\n",
       "      <td>630254</td>\n",
       "    </tr>\n",
       "    <tr>\n",
       "      <th>34</th>\n",
       "      <td>November-2015</td>\n",
       "      <td>7337</td>\n",
       "      <td>632774</td>\n",
       "    </tr>\n",
       "    <tr>\n",
       "      <th>35</th>\n",
       "      <td>December-2015</td>\n",
       "      <td>4917</td>\n",
       "      <td>608714</td>\n",
       "    </tr>\n",
       "    <tr>\n",
       "      <th>36</th>\n",
       "      <td>January-2014</td>\n",
       "      <td>4103</td>\n",
       "      <td>526965</td>\n",
       "    </tr>\n",
       "    <tr>\n",
       "      <th>37</th>\n",
       "      <td>February-2014</td>\n",
       "      <td>5696</td>\n",
       "      <td>552859</td>\n",
       "    </tr>\n",
       "    <tr>\n",
       "      <th>38</th>\n",
       "      <td>March-2014</td>\n",
       "      <td>8052</td>\n",
       "      <td>558019</td>\n",
       "    </tr>\n",
       "    <tr>\n",
       "      <th>39</th>\n",
       "      <td>April-2014</td>\n",
       "      <td>9660</td>\n",
       "      <td>578354</td>\n",
       "    </tr>\n",
       "    <tr>\n",
       "      <th>40</th>\n",
       "      <td>May-2014</td>\n",
       "      <td>11013</td>\n",
       "      <td>584946</td>\n",
       "    </tr>\n",
       "    <tr>\n",
       "      <th>41</th>\n",
       "      <td>June-2014</td>\n",
       "      <td>10132</td>\n",
       "      <td>569174</td>\n",
       "    </tr>\n",
       "    <tr>\n",
       "      <th>42</th>\n",
       "      <td>July-2014</td>\n",
       "      <td>9152</td>\n",
       "      <td>550625</td>\n",
       "    </tr>\n",
       "    <tr>\n",
       "      <th>43</th>\n",
       "      <td>August-2014</td>\n",
       "      <td>7568</td>\n",
       "      <td>546482</td>\n",
       "    </tr>\n",
       "    <tr>\n",
       "      <th>44</th>\n",
       "      <td>September-2014</td>\n",
       "      <td>8001</td>\n",
       "      <td>574424</td>\n",
       "    </tr>\n",
       "    <tr>\n",
       "      <th>45</th>\n",
       "      <td>October-2014</td>\n",
       "      <td>8512</td>\n",
       "      <td>587945</td>\n",
       "    </tr>\n",
       "    <tr>\n",
       "      <th>46</th>\n",
       "      <td>November-2014</td>\n",
       "      <td>6475</td>\n",
       "      <td>577468</td>\n",
       "    </tr>\n",
       "    <tr>\n",
       "      <th>47</th>\n",
       "      <td>December-2014</td>\n",
       "      <td>4418</td>\n",
       "      <td>556259</td>\n",
       "    </tr>\n",
       "    <tr>\n",
       "      <th>48</th>\n",
       "      <td>January-2013</td>\n",
       "      <td>4230</td>\n",
       "      <td>482028</td>\n",
       "    </tr>\n",
       "    <tr>\n",
       "      <th>49</th>\n",
       "      <td>February-2013</td>\n",
       "      <td>5615</td>\n",
       "      <td>509447</td>\n",
       "    </tr>\n",
       "    <tr>\n",
       "      <th>50</th>\n",
       "      <td>March-2013</td>\n",
       "      <td>7536</td>\n",
       "      <td>517247</td>\n",
       "    </tr>\n",
       "    <tr>\n",
       "      <th>51</th>\n",
       "      <td>April-2013</td>\n",
       "      <td>9537</td>\n",
       "      <td>524823</td>\n",
       "    </tr>\n",
       "    <tr>\n",
       "      <th>52</th>\n",
       "      <td>May-2013</td>\n",
       "      <td>9945</td>\n",
       "      <td>540581</td>\n",
       "    </tr>\n",
       "    <tr>\n",
       "      <th>53</th>\n",
       "      <td>June-2013</td>\n",
       "      <td>8821</td>\n",
       "      <td>529614</td>\n",
       "    </tr>\n",
       "    <tr>\n",
       "      <th>54</th>\n",
       "      <td>July-2013</td>\n",
       "      <td>8367</td>\n",
       "      <td>512286</td>\n",
       "    </tr>\n",
       "    <tr>\n",
       "      <th>55</th>\n",
       "      <td>August-2013</td>\n",
       "      <td>7390</td>\n",
       "      <td>501742</td>\n",
       "    </tr>\n",
       "    <tr>\n",
       "      <th>56</th>\n",
       "      <td>September-2013</td>\n",
       "      <td>7256</td>\n",
       "      <td>532556</td>\n",
       "    </tr>\n",
       "    <tr>\n",
       "      <th>57</th>\n",
       "      <td>October-2013</td>\n",
       "      <td>7940</td>\n",
       "      <td>539354</td>\n",
       "    </tr>\n",
       "    <tr>\n",
       "      <th>58</th>\n",
       "      <td>November-2013</td>\n",
       "      <td>6354</td>\n",
       "      <td>538347</td>\n",
       "    </tr>\n",
       "    <tr>\n",
       "      <th>59</th>\n",
       "      <td>December-2013</td>\n",
       "      <td>4058</td>\n",
       "      <td>520189</td>\n",
       "    </tr>\n",
       "  </tbody>\n",
       "</table>\n",
       "</div>"
      ],
      "text/plain": [
       "         MonthYear  Sales  AveragePrice\n",
       "0     January-2017   5155        768351\n",
       "1    February-2017   7955        876363\n",
       "2       March-2017  11959        915353\n",
       "3       April-2017  11470        918138\n",
       "4         May-2017  10068        862109\n",
       "5        June-2017   7896        791949\n",
       "6        July-2017   5871        745909\n",
       "7      August-2017   6310        731606\n",
       "8   September-2017   6340        774946\n",
       "9     October-2017   7087        780643\n",
       "10   November-2017   7353        761985\n",
       "11   December-2017   4930        735021\n",
       "12    January-2016   4640        630193\n",
       "13   February-2016   7582        685628\n",
       "14      March-2016  10260        688011\n",
       "15      April-2016  12016        739762\n",
       "16        May-2016  12789        752068\n",
       "17       June-2016  12725        747018\n",
       "18       July-2016   9929        710471\n",
       "19     August-2016   9748        710978\n",
       "20  September-2016   9828        756104\n",
       "21    October-2016   9715        762691\n",
       "22   November-2016   8503        777091\n",
       "23   December-2016   5305        730124\n",
       "24    January-2015   4318        552925\n",
       "25   February-2015   6294        596320\n",
       "26      March-2015   8886        613818\n",
       "27      April-2015  11254        636094\n",
       "28        May-2015  11640        649648\n",
       "29       June-2015  11905        639309\n",
       "30       July-2015   9813        608875\n",
       "31     August-2015   7943        603534\n",
       "32  September-2015   8147        627867\n",
       "33    October-2015   8759        630254\n",
       "34   November-2015   7337        632774\n",
       "35   December-2015   4917        608714\n",
       "36    January-2014   4103        526965\n",
       "37   February-2014   5696        552859\n",
       "38      March-2014   8052        558019\n",
       "39      April-2014   9660        578354\n",
       "40        May-2014  11013        584946\n",
       "41       June-2014  10132        569174\n",
       "42       July-2014   9152        550625\n",
       "43     August-2014   7568        546482\n",
       "44  September-2014   8001        574424\n",
       "45    October-2014   8512        587945\n",
       "46   November-2014   6475        577468\n",
       "47   December-2014   4418        556259\n",
       "48    January-2013   4230        482028\n",
       "49   February-2013   5615        509447\n",
       "50      March-2013   7536        517247\n",
       "51      April-2013   9537        524823\n",
       "52        May-2013   9945        540581\n",
       "53       June-2013   8821        529614\n",
       "54       July-2013   8367        512286\n",
       "55     August-2013   7390        501742\n",
       "56  September-2013   7256        532556\n",
       "57    October-2013   7940        539354\n",
       "58   November-2013   6354        538347\n",
       "59   December-2013   4058        520189"
      ]
     },
     "execution_count": 77,
     "metadata": {},
     "output_type": "execute_result"
    }
   ],
   "source": [
    "df = pd.read_excel('TREB_data.xlsx')\n",
    "df"
   ]
  },
  {
   "cell_type": "code",
   "execution_count": 78,
   "id": "c34b5e12",
   "metadata": {},
   "outputs": [
    {
     "data": {
      "text/html": [
       "<div>\n",
       "<style scoped>\n",
       "    .dataframe tbody tr th:only-of-type {\n",
       "        vertical-align: middle;\n",
       "    }\n",
       "\n",
       "    .dataframe tbody tr th {\n",
       "        vertical-align: top;\n",
       "    }\n",
       "\n",
       "    .dataframe thead th {\n",
       "        text-align: right;\n",
       "    }\n",
       "</style>\n",
       "<table border=\"1\" class=\"dataframe\">\n",
       "  <thead>\n",
       "    <tr style=\"text-align: right;\">\n",
       "      <th></th>\n",
       "      <th>MonthYear</th>\n",
       "      <th>Sales</th>\n",
       "      <th>AveragePrice</th>\n",
       "      <th>Year</th>\n",
       "      <th>Month</th>\n",
       "    </tr>\n",
       "  </thead>\n",
       "  <tbody>\n",
       "    <tr>\n",
       "      <th>0</th>\n",
       "      <td>January-2017</td>\n",
       "      <td>5155</td>\n",
       "      <td>768351</td>\n",
       "      <td>2017</td>\n",
       "      <td>January</td>\n",
       "    </tr>\n",
       "    <tr>\n",
       "      <th>1</th>\n",
       "      <td>February-2017</td>\n",
       "      <td>7955</td>\n",
       "      <td>876363</td>\n",
       "      <td>2017</td>\n",
       "      <td>February</td>\n",
       "    </tr>\n",
       "    <tr>\n",
       "      <th>2</th>\n",
       "      <td>March-2017</td>\n",
       "      <td>11959</td>\n",
       "      <td>915353</td>\n",
       "      <td>2017</td>\n",
       "      <td>March</td>\n",
       "    </tr>\n",
       "    <tr>\n",
       "      <th>3</th>\n",
       "      <td>April-2017</td>\n",
       "      <td>11470</td>\n",
       "      <td>918138</td>\n",
       "      <td>2017</td>\n",
       "      <td>April</td>\n",
       "    </tr>\n",
       "    <tr>\n",
       "      <th>4</th>\n",
       "      <td>May-2017</td>\n",
       "      <td>10068</td>\n",
       "      <td>862109</td>\n",
       "      <td>2017</td>\n",
       "      <td>May</td>\n",
       "    </tr>\n",
       "    <tr>\n",
       "      <th>5</th>\n",
       "      <td>June-2017</td>\n",
       "      <td>7896</td>\n",
       "      <td>791949</td>\n",
       "      <td>2017</td>\n",
       "      <td>June</td>\n",
       "    </tr>\n",
       "    <tr>\n",
       "      <th>6</th>\n",
       "      <td>July-2017</td>\n",
       "      <td>5871</td>\n",
       "      <td>745909</td>\n",
       "      <td>2017</td>\n",
       "      <td>July</td>\n",
       "    </tr>\n",
       "    <tr>\n",
       "      <th>7</th>\n",
       "      <td>August-2017</td>\n",
       "      <td>6310</td>\n",
       "      <td>731606</td>\n",
       "      <td>2017</td>\n",
       "      <td>August</td>\n",
       "    </tr>\n",
       "    <tr>\n",
       "      <th>8</th>\n",
       "      <td>September-2017</td>\n",
       "      <td>6340</td>\n",
       "      <td>774946</td>\n",
       "      <td>2017</td>\n",
       "      <td>September</td>\n",
       "    </tr>\n",
       "    <tr>\n",
       "      <th>9</th>\n",
       "      <td>October-2017</td>\n",
       "      <td>7087</td>\n",
       "      <td>780643</td>\n",
       "      <td>2017</td>\n",
       "      <td>October</td>\n",
       "    </tr>\n",
       "    <tr>\n",
       "      <th>10</th>\n",
       "      <td>November-2017</td>\n",
       "      <td>7353</td>\n",
       "      <td>761985</td>\n",
       "      <td>2017</td>\n",
       "      <td>November</td>\n",
       "    </tr>\n",
       "    <tr>\n",
       "      <th>11</th>\n",
       "      <td>December-2017</td>\n",
       "      <td>4930</td>\n",
       "      <td>735021</td>\n",
       "      <td>2017</td>\n",
       "      <td>December</td>\n",
       "    </tr>\n",
       "    <tr>\n",
       "      <th>12</th>\n",
       "      <td>January-2016</td>\n",
       "      <td>4640</td>\n",
       "      <td>630193</td>\n",
       "      <td>2016</td>\n",
       "      <td>January</td>\n",
       "    </tr>\n",
       "    <tr>\n",
       "      <th>13</th>\n",
       "      <td>February-2016</td>\n",
       "      <td>7582</td>\n",
       "      <td>685628</td>\n",
       "      <td>2016</td>\n",
       "      <td>February</td>\n",
       "    </tr>\n",
       "    <tr>\n",
       "      <th>14</th>\n",
       "      <td>March-2016</td>\n",
       "      <td>10260</td>\n",
       "      <td>688011</td>\n",
       "      <td>2016</td>\n",
       "      <td>March</td>\n",
       "    </tr>\n",
       "    <tr>\n",
       "      <th>15</th>\n",
       "      <td>April-2016</td>\n",
       "      <td>12016</td>\n",
       "      <td>739762</td>\n",
       "      <td>2016</td>\n",
       "      <td>April</td>\n",
       "    </tr>\n",
       "    <tr>\n",
       "      <th>16</th>\n",
       "      <td>May-2016</td>\n",
       "      <td>12789</td>\n",
       "      <td>752068</td>\n",
       "      <td>2016</td>\n",
       "      <td>May</td>\n",
       "    </tr>\n",
       "    <tr>\n",
       "      <th>17</th>\n",
       "      <td>June-2016</td>\n",
       "      <td>12725</td>\n",
       "      <td>747018</td>\n",
       "      <td>2016</td>\n",
       "      <td>June</td>\n",
       "    </tr>\n",
       "    <tr>\n",
       "      <th>18</th>\n",
       "      <td>July-2016</td>\n",
       "      <td>9929</td>\n",
       "      <td>710471</td>\n",
       "      <td>2016</td>\n",
       "      <td>July</td>\n",
       "    </tr>\n",
       "    <tr>\n",
       "      <th>19</th>\n",
       "      <td>August-2016</td>\n",
       "      <td>9748</td>\n",
       "      <td>710978</td>\n",
       "      <td>2016</td>\n",
       "      <td>August</td>\n",
       "    </tr>\n",
       "    <tr>\n",
       "      <th>20</th>\n",
       "      <td>September-2016</td>\n",
       "      <td>9828</td>\n",
       "      <td>756104</td>\n",
       "      <td>2016</td>\n",
       "      <td>September</td>\n",
       "    </tr>\n",
       "    <tr>\n",
       "      <th>21</th>\n",
       "      <td>October-2016</td>\n",
       "      <td>9715</td>\n",
       "      <td>762691</td>\n",
       "      <td>2016</td>\n",
       "      <td>October</td>\n",
       "    </tr>\n",
       "    <tr>\n",
       "      <th>22</th>\n",
       "      <td>November-2016</td>\n",
       "      <td>8503</td>\n",
       "      <td>777091</td>\n",
       "      <td>2016</td>\n",
       "      <td>November</td>\n",
       "    </tr>\n",
       "    <tr>\n",
       "      <th>23</th>\n",
       "      <td>December-2016</td>\n",
       "      <td>5305</td>\n",
       "      <td>730124</td>\n",
       "      <td>2016</td>\n",
       "      <td>December</td>\n",
       "    </tr>\n",
       "    <tr>\n",
       "      <th>24</th>\n",
       "      <td>January-2015</td>\n",
       "      <td>4318</td>\n",
       "      <td>552925</td>\n",
       "      <td>2015</td>\n",
       "      <td>January</td>\n",
       "    </tr>\n",
       "    <tr>\n",
       "      <th>25</th>\n",
       "      <td>February-2015</td>\n",
       "      <td>6294</td>\n",
       "      <td>596320</td>\n",
       "      <td>2015</td>\n",
       "      <td>February</td>\n",
       "    </tr>\n",
       "    <tr>\n",
       "      <th>26</th>\n",
       "      <td>March-2015</td>\n",
       "      <td>8886</td>\n",
       "      <td>613818</td>\n",
       "      <td>2015</td>\n",
       "      <td>March</td>\n",
       "    </tr>\n",
       "    <tr>\n",
       "      <th>27</th>\n",
       "      <td>April-2015</td>\n",
       "      <td>11254</td>\n",
       "      <td>636094</td>\n",
       "      <td>2015</td>\n",
       "      <td>April</td>\n",
       "    </tr>\n",
       "    <tr>\n",
       "      <th>28</th>\n",
       "      <td>May-2015</td>\n",
       "      <td>11640</td>\n",
       "      <td>649648</td>\n",
       "      <td>2015</td>\n",
       "      <td>May</td>\n",
       "    </tr>\n",
       "    <tr>\n",
       "      <th>29</th>\n",
       "      <td>June-2015</td>\n",
       "      <td>11905</td>\n",
       "      <td>639309</td>\n",
       "      <td>2015</td>\n",
       "      <td>June</td>\n",
       "    </tr>\n",
       "    <tr>\n",
       "      <th>30</th>\n",
       "      <td>July-2015</td>\n",
       "      <td>9813</td>\n",
       "      <td>608875</td>\n",
       "      <td>2015</td>\n",
       "      <td>July</td>\n",
       "    </tr>\n",
       "    <tr>\n",
       "      <th>31</th>\n",
       "      <td>August-2015</td>\n",
       "      <td>7943</td>\n",
       "      <td>603534</td>\n",
       "      <td>2015</td>\n",
       "      <td>August</td>\n",
       "    </tr>\n",
       "    <tr>\n",
       "      <th>32</th>\n",
       "      <td>September-2015</td>\n",
       "      <td>8147</td>\n",
       "      <td>627867</td>\n",
       "      <td>2015</td>\n",
       "      <td>September</td>\n",
       "    </tr>\n",
       "    <tr>\n",
       "      <th>33</th>\n",
       "      <td>October-2015</td>\n",
       "      <td>8759</td>\n",
       "      <td>630254</td>\n",
       "      <td>2015</td>\n",
       "      <td>October</td>\n",
       "    </tr>\n",
       "    <tr>\n",
       "      <th>34</th>\n",
       "      <td>November-2015</td>\n",
       "      <td>7337</td>\n",
       "      <td>632774</td>\n",
       "      <td>2015</td>\n",
       "      <td>November</td>\n",
       "    </tr>\n",
       "    <tr>\n",
       "      <th>35</th>\n",
       "      <td>December-2015</td>\n",
       "      <td>4917</td>\n",
       "      <td>608714</td>\n",
       "      <td>2015</td>\n",
       "      <td>December</td>\n",
       "    </tr>\n",
       "    <tr>\n",
       "      <th>36</th>\n",
       "      <td>January-2014</td>\n",
       "      <td>4103</td>\n",
       "      <td>526965</td>\n",
       "      <td>2014</td>\n",
       "      <td>January</td>\n",
       "    </tr>\n",
       "    <tr>\n",
       "      <th>37</th>\n",
       "      <td>February-2014</td>\n",
       "      <td>5696</td>\n",
       "      <td>552859</td>\n",
       "      <td>2014</td>\n",
       "      <td>February</td>\n",
       "    </tr>\n",
       "    <tr>\n",
       "      <th>38</th>\n",
       "      <td>March-2014</td>\n",
       "      <td>8052</td>\n",
       "      <td>558019</td>\n",
       "      <td>2014</td>\n",
       "      <td>March</td>\n",
       "    </tr>\n",
       "    <tr>\n",
       "      <th>39</th>\n",
       "      <td>April-2014</td>\n",
       "      <td>9660</td>\n",
       "      <td>578354</td>\n",
       "      <td>2014</td>\n",
       "      <td>April</td>\n",
       "    </tr>\n",
       "    <tr>\n",
       "      <th>40</th>\n",
       "      <td>May-2014</td>\n",
       "      <td>11013</td>\n",
       "      <td>584946</td>\n",
       "      <td>2014</td>\n",
       "      <td>May</td>\n",
       "    </tr>\n",
       "    <tr>\n",
       "      <th>41</th>\n",
       "      <td>June-2014</td>\n",
       "      <td>10132</td>\n",
       "      <td>569174</td>\n",
       "      <td>2014</td>\n",
       "      <td>June</td>\n",
       "    </tr>\n",
       "    <tr>\n",
       "      <th>42</th>\n",
       "      <td>July-2014</td>\n",
       "      <td>9152</td>\n",
       "      <td>550625</td>\n",
       "      <td>2014</td>\n",
       "      <td>July</td>\n",
       "    </tr>\n",
       "    <tr>\n",
       "      <th>43</th>\n",
       "      <td>August-2014</td>\n",
       "      <td>7568</td>\n",
       "      <td>546482</td>\n",
       "      <td>2014</td>\n",
       "      <td>August</td>\n",
       "    </tr>\n",
       "    <tr>\n",
       "      <th>44</th>\n",
       "      <td>September-2014</td>\n",
       "      <td>8001</td>\n",
       "      <td>574424</td>\n",
       "      <td>2014</td>\n",
       "      <td>September</td>\n",
       "    </tr>\n",
       "    <tr>\n",
       "      <th>45</th>\n",
       "      <td>October-2014</td>\n",
       "      <td>8512</td>\n",
       "      <td>587945</td>\n",
       "      <td>2014</td>\n",
       "      <td>October</td>\n",
       "    </tr>\n",
       "    <tr>\n",
       "      <th>46</th>\n",
       "      <td>November-2014</td>\n",
       "      <td>6475</td>\n",
       "      <td>577468</td>\n",
       "      <td>2014</td>\n",
       "      <td>November</td>\n",
       "    </tr>\n",
       "    <tr>\n",
       "      <th>47</th>\n",
       "      <td>December-2014</td>\n",
       "      <td>4418</td>\n",
       "      <td>556259</td>\n",
       "      <td>2014</td>\n",
       "      <td>December</td>\n",
       "    </tr>\n",
       "    <tr>\n",
       "      <th>48</th>\n",
       "      <td>January-2013</td>\n",
       "      <td>4230</td>\n",
       "      <td>482028</td>\n",
       "      <td>2013</td>\n",
       "      <td>January</td>\n",
       "    </tr>\n",
       "    <tr>\n",
       "      <th>49</th>\n",
       "      <td>February-2013</td>\n",
       "      <td>5615</td>\n",
       "      <td>509447</td>\n",
       "      <td>2013</td>\n",
       "      <td>February</td>\n",
       "    </tr>\n",
       "    <tr>\n",
       "      <th>50</th>\n",
       "      <td>March-2013</td>\n",
       "      <td>7536</td>\n",
       "      <td>517247</td>\n",
       "      <td>2013</td>\n",
       "      <td>March</td>\n",
       "    </tr>\n",
       "    <tr>\n",
       "      <th>51</th>\n",
       "      <td>April-2013</td>\n",
       "      <td>9537</td>\n",
       "      <td>524823</td>\n",
       "      <td>2013</td>\n",
       "      <td>April</td>\n",
       "    </tr>\n",
       "    <tr>\n",
       "      <th>52</th>\n",
       "      <td>May-2013</td>\n",
       "      <td>9945</td>\n",
       "      <td>540581</td>\n",
       "      <td>2013</td>\n",
       "      <td>May</td>\n",
       "    </tr>\n",
       "    <tr>\n",
       "      <th>53</th>\n",
       "      <td>June-2013</td>\n",
       "      <td>8821</td>\n",
       "      <td>529614</td>\n",
       "      <td>2013</td>\n",
       "      <td>June</td>\n",
       "    </tr>\n",
       "    <tr>\n",
       "      <th>54</th>\n",
       "      <td>July-2013</td>\n",
       "      <td>8367</td>\n",
       "      <td>512286</td>\n",
       "      <td>2013</td>\n",
       "      <td>July</td>\n",
       "    </tr>\n",
       "    <tr>\n",
       "      <th>55</th>\n",
       "      <td>August-2013</td>\n",
       "      <td>7390</td>\n",
       "      <td>501742</td>\n",
       "      <td>2013</td>\n",
       "      <td>August</td>\n",
       "    </tr>\n",
       "    <tr>\n",
       "      <th>56</th>\n",
       "      <td>September-2013</td>\n",
       "      <td>7256</td>\n",
       "      <td>532556</td>\n",
       "      <td>2013</td>\n",
       "      <td>September</td>\n",
       "    </tr>\n",
       "    <tr>\n",
       "      <th>57</th>\n",
       "      <td>October-2013</td>\n",
       "      <td>7940</td>\n",
       "      <td>539354</td>\n",
       "      <td>2013</td>\n",
       "      <td>October</td>\n",
       "    </tr>\n",
       "    <tr>\n",
       "      <th>58</th>\n",
       "      <td>November-2013</td>\n",
       "      <td>6354</td>\n",
       "      <td>538347</td>\n",
       "      <td>2013</td>\n",
       "      <td>November</td>\n",
       "    </tr>\n",
       "    <tr>\n",
       "      <th>59</th>\n",
       "      <td>December-2013</td>\n",
       "      <td>4058</td>\n",
       "      <td>520189</td>\n",
       "      <td>2013</td>\n",
       "      <td>December</td>\n",
       "    </tr>\n",
       "  </tbody>\n",
       "</table>\n",
       "</div>"
      ],
      "text/plain": [
       "         MonthYear  Sales  AveragePrice  Year      Month\n",
       "0     January-2017   5155        768351  2017    January\n",
       "1    February-2017   7955        876363  2017   February\n",
       "2       March-2017  11959        915353  2017      March\n",
       "3       April-2017  11470        918138  2017      April\n",
       "4         May-2017  10068        862109  2017        May\n",
       "5        June-2017   7896        791949  2017       June\n",
       "6        July-2017   5871        745909  2017       July\n",
       "7      August-2017   6310        731606  2017     August\n",
       "8   September-2017   6340        774946  2017  September\n",
       "9     October-2017   7087        780643  2017    October\n",
       "10   November-2017   7353        761985  2017   November\n",
       "11   December-2017   4930        735021  2017   December\n",
       "12    January-2016   4640        630193  2016    January\n",
       "13   February-2016   7582        685628  2016   February\n",
       "14      March-2016  10260        688011  2016      March\n",
       "15      April-2016  12016        739762  2016      April\n",
       "16        May-2016  12789        752068  2016        May\n",
       "17       June-2016  12725        747018  2016       June\n",
       "18       July-2016   9929        710471  2016       July\n",
       "19     August-2016   9748        710978  2016     August\n",
       "20  September-2016   9828        756104  2016  September\n",
       "21    October-2016   9715        762691  2016    October\n",
       "22   November-2016   8503        777091  2016   November\n",
       "23   December-2016   5305        730124  2016   December\n",
       "24    January-2015   4318        552925  2015    January\n",
       "25   February-2015   6294        596320  2015   February\n",
       "26      March-2015   8886        613818  2015      March\n",
       "27      April-2015  11254        636094  2015      April\n",
       "28        May-2015  11640        649648  2015        May\n",
       "29       June-2015  11905        639309  2015       June\n",
       "30       July-2015   9813        608875  2015       July\n",
       "31     August-2015   7943        603534  2015     August\n",
       "32  September-2015   8147        627867  2015  September\n",
       "33    October-2015   8759        630254  2015    October\n",
       "34   November-2015   7337        632774  2015   November\n",
       "35   December-2015   4917        608714  2015   December\n",
       "36    January-2014   4103        526965  2014    January\n",
       "37   February-2014   5696        552859  2014   February\n",
       "38      March-2014   8052        558019  2014      March\n",
       "39      April-2014   9660        578354  2014      April\n",
       "40        May-2014  11013        584946  2014        May\n",
       "41       June-2014  10132        569174  2014       June\n",
       "42       July-2014   9152        550625  2014       July\n",
       "43     August-2014   7568        546482  2014     August\n",
       "44  September-2014   8001        574424  2014  September\n",
       "45    October-2014   8512        587945  2014    October\n",
       "46   November-2014   6475        577468  2014   November\n",
       "47   December-2014   4418        556259  2014   December\n",
       "48    January-2013   4230        482028  2013    January\n",
       "49   February-2013   5615        509447  2013   February\n",
       "50      March-2013   7536        517247  2013      March\n",
       "51      April-2013   9537        524823  2013      April\n",
       "52        May-2013   9945        540581  2013        May\n",
       "53       June-2013   8821        529614  2013       June\n",
       "54       July-2013   8367        512286  2013       July\n",
       "55     August-2013   7390        501742  2013     August\n",
       "56  September-2013   7256        532556  2013  September\n",
       "57    October-2013   7940        539354  2013    October\n",
       "58   November-2013   6354        538347  2013   November\n",
       "59   December-2013   4058        520189  2013   December"
      ]
     },
     "execution_count": 78,
     "metadata": {},
     "output_type": "execute_result"
    }
   ],
   "source": [
    "# create new colomn for Month and Year using split()\n",
    "Month = []\n",
    "Year = []\n",
    "for i in range(len(df['MonthYear'])):\n",
    "    Month.append(df['MonthYear'][i].split(\"-\")[0])\n",
    "    Year.append(df['MonthYear'][i].split(\"-\")[1])\n",
    "\n",
    "# append corresponding month and year to dataframe\n",
    "df['Year'] = Year\n",
    "df['Month'] = Month\n",
    "df"
   ]
  },
  {
   "cell_type": "code",
   "execution_count": 79,
   "id": "98e420c6",
   "metadata": {},
   "outputs": [
    {
     "data": {
      "text/html": [
       "<div>\n",
       "<style scoped>\n",
       "    .dataframe tbody tr th:only-of-type {\n",
       "        vertical-align: middle;\n",
       "    }\n",
       "\n",
       "    .dataframe tbody tr th {\n",
       "        vertical-align: top;\n",
       "    }\n",
       "\n",
       "    .dataframe thead tr th {\n",
       "        text-align: left;\n",
       "    }\n",
       "\n",
       "    .dataframe thead tr:last-of-type th {\n",
       "        text-align: right;\n",
       "    }\n",
       "</style>\n",
       "<table border=\"1\" class=\"dataframe\">\n",
       "  <thead>\n",
       "    <tr>\n",
       "      <th></th>\n",
       "      <th colspan=\"5\" halign=\"left\">Sales</th>\n",
       "    </tr>\n",
       "    <tr>\n",
       "      <th>Year</th>\n",
       "      <th>2013</th>\n",
       "      <th>2014</th>\n",
       "      <th>2015</th>\n",
       "      <th>2016</th>\n",
       "      <th>2017</th>\n",
       "    </tr>\n",
       "    <tr>\n",
       "      <th>Month</th>\n",
       "      <th></th>\n",
       "      <th></th>\n",
       "      <th></th>\n",
       "      <th></th>\n",
       "      <th></th>\n",
       "    </tr>\n",
       "  </thead>\n",
       "  <tbody>\n",
       "    <tr>\n",
       "      <th>April</th>\n",
       "      <td>9537</td>\n",
       "      <td>9660</td>\n",
       "      <td>11254</td>\n",
       "      <td>12016</td>\n",
       "      <td>11470</td>\n",
       "    </tr>\n",
       "    <tr>\n",
       "      <th>August</th>\n",
       "      <td>7390</td>\n",
       "      <td>7568</td>\n",
       "      <td>7943</td>\n",
       "      <td>9748</td>\n",
       "      <td>6310</td>\n",
       "    </tr>\n",
       "    <tr>\n",
       "      <th>December</th>\n",
       "      <td>4058</td>\n",
       "      <td>4418</td>\n",
       "      <td>4917</td>\n",
       "      <td>5305</td>\n",
       "      <td>4930</td>\n",
       "    </tr>\n",
       "    <tr>\n",
       "      <th>February</th>\n",
       "      <td>5615</td>\n",
       "      <td>5696</td>\n",
       "      <td>6294</td>\n",
       "      <td>7582</td>\n",
       "      <td>7955</td>\n",
       "    </tr>\n",
       "    <tr>\n",
       "      <th>January</th>\n",
       "      <td>4230</td>\n",
       "      <td>4103</td>\n",
       "      <td>4318</td>\n",
       "      <td>4640</td>\n",
       "      <td>5155</td>\n",
       "    </tr>\n",
       "    <tr>\n",
       "      <th>July</th>\n",
       "      <td>8367</td>\n",
       "      <td>9152</td>\n",
       "      <td>9813</td>\n",
       "      <td>9929</td>\n",
       "      <td>5871</td>\n",
       "    </tr>\n",
       "    <tr>\n",
       "      <th>June</th>\n",
       "      <td>8821</td>\n",
       "      <td>10132</td>\n",
       "      <td>11905</td>\n",
       "      <td>12725</td>\n",
       "      <td>7896</td>\n",
       "    </tr>\n",
       "    <tr>\n",
       "      <th>March</th>\n",
       "      <td>7536</td>\n",
       "      <td>8052</td>\n",
       "      <td>8886</td>\n",
       "      <td>10260</td>\n",
       "      <td>11959</td>\n",
       "    </tr>\n",
       "    <tr>\n",
       "      <th>May</th>\n",
       "      <td>9945</td>\n",
       "      <td>11013</td>\n",
       "      <td>11640</td>\n",
       "      <td>12789</td>\n",
       "      <td>10068</td>\n",
       "    </tr>\n",
       "    <tr>\n",
       "      <th>November</th>\n",
       "      <td>6354</td>\n",
       "      <td>6475</td>\n",
       "      <td>7337</td>\n",
       "      <td>8503</td>\n",
       "      <td>7353</td>\n",
       "    </tr>\n",
       "    <tr>\n",
       "      <th>October</th>\n",
       "      <td>7940</td>\n",
       "      <td>8512</td>\n",
       "      <td>8759</td>\n",
       "      <td>9715</td>\n",
       "      <td>7087</td>\n",
       "    </tr>\n",
       "    <tr>\n",
       "      <th>September</th>\n",
       "      <td>7256</td>\n",
       "      <td>8001</td>\n",
       "      <td>8147</td>\n",
       "      <td>9828</td>\n",
       "      <td>6340</td>\n",
       "    </tr>\n",
       "  </tbody>\n",
       "</table>\n",
       "</div>"
      ],
      "text/plain": [
       "          Sales                            \n",
       "Year       2013   2014   2015   2016   2017\n",
       "Month                                      \n",
       "April      9537   9660  11254  12016  11470\n",
       "August     7390   7568   7943   9748   6310\n",
       "December   4058   4418   4917   5305   4930\n",
       "February   5615   5696   6294   7582   7955\n",
       "January    4230   4103   4318   4640   5155\n",
       "July       8367   9152   9813   9929   5871\n",
       "June       8821  10132  11905  12725   7896\n",
       "March      7536   8052   8886  10260  11959\n",
       "May        9945  11013  11640  12789  10068\n",
       "November   6354   6475   7337   8503   7353\n",
       "October    7940   8512   8759   9715   7087\n",
       "September  7256   8001   8147   9828   6340"
      ]
     },
     "execution_count": 79,
     "metadata": {},
     "output_type": "execute_result"
    }
   ],
   "source": [
    "# generate pivot table\n",
    "tb = pd.pivot_table(df,index=[\"Month\"],\n",
    "               values=[\"Sales\"],\n",
    "               fill_value = 0,\n",
    "               columns=[\"Year\"]\n",
    "                      )\n",
    "tb"
   ]
  },
  {
   "cell_type": "code",
   "execution_count": 80,
   "id": "4bc7c17b",
   "metadata": {},
   "outputs": [
    {
     "data": {
      "text/html": [
       "<div>\n",
       "<style scoped>\n",
       "    .dataframe tbody tr th:only-of-type {\n",
       "        vertical-align: middle;\n",
       "    }\n",
       "\n",
       "    .dataframe tbody tr th {\n",
       "        vertical-align: top;\n",
       "    }\n",
       "\n",
       "    .dataframe thead tr th {\n",
       "        text-align: left;\n",
       "    }\n",
       "\n",
       "    .dataframe thead tr:last-of-type th {\n",
       "        text-align: right;\n",
       "    }\n",
       "</style>\n",
       "<table border=\"1\" class=\"dataframe\">\n",
       "  <thead>\n",
       "    <tr>\n",
       "      <th></th>\n",
       "      <th colspan=\"5\" halign=\"left\">Sales</th>\n",
       "    </tr>\n",
       "    <tr>\n",
       "      <th>Year</th>\n",
       "      <th>2013</th>\n",
       "      <th>2014</th>\n",
       "      <th>2015</th>\n",
       "      <th>2016</th>\n",
       "      <th>2017</th>\n",
       "    </tr>\n",
       "    <tr>\n",
       "      <th>Month</th>\n",
       "      <th></th>\n",
       "      <th></th>\n",
       "      <th></th>\n",
       "      <th></th>\n",
       "      <th></th>\n",
       "    </tr>\n",
       "  </thead>\n",
       "  <tbody>\n",
       "    <tr>\n",
       "      <th>January</th>\n",
       "      <td>4230</td>\n",
       "      <td>4103</td>\n",
       "      <td>4318</td>\n",
       "      <td>4640</td>\n",
       "      <td>5155</td>\n",
       "    </tr>\n",
       "    <tr>\n",
       "      <th>February</th>\n",
       "      <td>5615</td>\n",
       "      <td>5696</td>\n",
       "      <td>6294</td>\n",
       "      <td>7582</td>\n",
       "      <td>7955</td>\n",
       "    </tr>\n",
       "    <tr>\n",
       "      <th>March</th>\n",
       "      <td>7536</td>\n",
       "      <td>8052</td>\n",
       "      <td>8886</td>\n",
       "      <td>10260</td>\n",
       "      <td>11959</td>\n",
       "    </tr>\n",
       "    <tr>\n",
       "      <th>April</th>\n",
       "      <td>9537</td>\n",
       "      <td>9660</td>\n",
       "      <td>11254</td>\n",
       "      <td>12016</td>\n",
       "      <td>11470</td>\n",
       "    </tr>\n",
       "    <tr>\n",
       "      <th>May</th>\n",
       "      <td>9945</td>\n",
       "      <td>11013</td>\n",
       "      <td>11640</td>\n",
       "      <td>12789</td>\n",
       "      <td>10068</td>\n",
       "    </tr>\n",
       "    <tr>\n",
       "      <th>June</th>\n",
       "      <td>8821</td>\n",
       "      <td>10132</td>\n",
       "      <td>11905</td>\n",
       "      <td>12725</td>\n",
       "      <td>7896</td>\n",
       "    </tr>\n",
       "    <tr>\n",
       "      <th>July</th>\n",
       "      <td>8367</td>\n",
       "      <td>9152</td>\n",
       "      <td>9813</td>\n",
       "      <td>9929</td>\n",
       "      <td>5871</td>\n",
       "    </tr>\n",
       "    <tr>\n",
       "      <th>August</th>\n",
       "      <td>7390</td>\n",
       "      <td>7568</td>\n",
       "      <td>7943</td>\n",
       "      <td>9748</td>\n",
       "      <td>6310</td>\n",
       "    </tr>\n",
       "    <tr>\n",
       "      <th>September</th>\n",
       "      <td>7256</td>\n",
       "      <td>8001</td>\n",
       "      <td>8147</td>\n",
       "      <td>9828</td>\n",
       "      <td>6340</td>\n",
       "    </tr>\n",
       "    <tr>\n",
       "      <th>October</th>\n",
       "      <td>7940</td>\n",
       "      <td>8512</td>\n",
       "      <td>8759</td>\n",
       "      <td>9715</td>\n",
       "      <td>7087</td>\n",
       "    </tr>\n",
       "    <tr>\n",
       "      <th>November</th>\n",
       "      <td>6354</td>\n",
       "      <td>6475</td>\n",
       "      <td>7337</td>\n",
       "      <td>8503</td>\n",
       "      <td>7353</td>\n",
       "    </tr>\n",
       "    <tr>\n",
       "      <th>December</th>\n",
       "      <td>4058</td>\n",
       "      <td>4418</td>\n",
       "      <td>4917</td>\n",
       "      <td>5305</td>\n",
       "      <td>4930</td>\n",
       "    </tr>\n",
       "  </tbody>\n",
       "</table>\n",
       "</div>"
      ],
      "text/plain": [
       "          Sales                            \n",
       "Year       2013   2014   2015   2016   2017\n",
       "Month                                      \n",
       "January    4230   4103   4318   4640   5155\n",
       "February   5615   5696   6294   7582   7955\n",
       "March      7536   8052   8886  10260  11959\n",
       "April      9537   9660  11254  12016  11470\n",
       "May        9945  11013  11640  12789  10068\n",
       "June       8821  10132  11905  12725   7896\n",
       "July       8367   9152   9813   9929   5871\n",
       "August     7390   7568   7943   9748   6310\n",
       "September  7256   8001   8147   9828   6340\n",
       "October    7940   8512   8759   9715   7087\n",
       "November   6354   6475   7337   8503   7353\n",
       "December   4058   4418   4917   5305   4930"
      ]
     },
     "execution_count": 80,
     "metadata": {},
     "output_type": "execute_result"
    }
   ],
   "source": [
    "# we are interested in monthly sales changes, so reorder the rows to see fluctuation\n",
    "tb = tb.reindex(df.Month.unique())\n",
    "tb"
   ]
  },
  {
   "cell_type": "markdown",
   "id": "54e9a3bb",
   "metadata": {},
   "source": [
    "Q4.2."
   ]
  },
  {
   "cell_type": "code",
   "execution_count": 81,
   "id": "e28dd737",
   "metadata": {},
   "outputs": [
    {
     "data": {
      "text/plain": [
       "Text(0, 0.5, 'Monthly Sales')"
      ]
     },
     "execution_count": 81,
     "metadata": {},
     "output_type": "execute_result"
    },
    {
     "data": {
      "image/png": "[encoded data removed]",
      "text/plain": [
       "<Figure size 432x288 with 1 Axes>"
      ]
     },
     "metadata": {
      "needs_background": "light"
     },
     "output_type": "display_data"
    }
   ],
   "source": [
    "# plot monthly sales vs month in each year\n",
    "tb.plot()\n",
    "plt.ylabel('Monthly Sales')"
   ]
  },
  {
   "cell_type": "markdown",
   "id": "d9270d76",
   "metadata": {},
   "source": [
    "We can observe from the gragh that sales vs year has similar patterns among different years. The sales are comparibly low in Winter (January, December), and are comparibly high in Spring (April May)"
   ]
  },
  {
   "cell_type": "markdown",
   "id": "982b464b",
   "metadata": {},
   "source": [
    "Q4.3."
   ]
  },
  {
   "cell_type": "code",
   "execution_count": 82,
   "id": "04e9e4ac",
   "metadata": {},
   "outputs": [
    {
     "data": {
      "text/html": [
       "<div>\n",
       "<style scoped>\n",
       "    .dataframe tbody tr th:only-of-type {\n",
       "        vertical-align: middle;\n",
       "    }\n",
       "\n",
       "    .dataframe tbody tr th {\n",
       "        vertical-align: top;\n",
       "    }\n",
       "\n",
       "    .dataframe thead th {\n",
       "        text-align: right;\n",
       "    }\n",
       "</style>\n",
       "<table border=\"1\" class=\"dataframe\">\n",
       "  <thead>\n",
       "    <tr style=\"text-align: right;\">\n",
       "      <th></th>\n",
       "      <th>Year</th>\n",
       "      <th>Sales</th>\n",
       "      <th>AveragePrice</th>\n",
       "    </tr>\n",
       "  </thead>\n",
       "  <tbody>\n",
       "    <tr>\n",
       "      <th>0</th>\n",
       "      <td>2013</td>\n",
       "      <td>87049</td>\n",
       "      <td>6248214</td>\n",
       "    </tr>\n",
       "    <tr>\n",
       "      <th>1</th>\n",
       "      <td>2014</td>\n",
       "      <td>92782</td>\n",
       "      <td>6763520</td>\n",
       "    </tr>\n",
       "    <tr>\n",
       "      <th>2</th>\n",
       "      <td>2015</td>\n",
       "      <td>101213</td>\n",
       "      <td>7400132</td>\n",
       "    </tr>\n",
       "    <tr>\n",
       "      <th>3</th>\n",
       "      <td>2016</td>\n",
       "      <td>113040</td>\n",
       "      <td>8690139</td>\n",
       "    </tr>\n",
       "    <tr>\n",
       "      <th>4</th>\n",
       "      <td>2017</td>\n",
       "      <td>92394</td>\n",
       "      <td>9662373</td>\n",
       "    </tr>\n",
       "  </tbody>\n",
       "</table>\n",
       "</div>"
      ],
      "text/plain": [
       "   Year   Sales  AveragePrice\n",
       "0  2013   87049       6248214\n",
       "1  2014   92782       6763520\n",
       "2  2015  101213       7400132\n",
       "3  2016  113040       8690139\n",
       "4  2017   92394       9662373"
      ]
     },
     "execution_count": 82,
     "metadata": {},
     "output_type": "execute_result"
    }
   ],
   "source": [
    "# (a) group by year pre-pivoting\n",
    "df_year = df.groupby(['Year']).sum().reset_index()\n",
    "df_year"
   ]
  },
  {
   "cell_type": "code",
   "execution_count": 83,
   "id": "4c5f2748",
   "metadata": {},
   "outputs": [
    {
     "data": {
      "text/html": [
       "<div>\n",
       "<style scoped>\n",
       "    .dataframe tbody tr th:only-of-type {\n",
       "        vertical-align: middle;\n",
       "    }\n",
       "\n",
       "    .dataframe tbody tr th {\n",
       "        vertical-align: top;\n",
       "    }\n",
       "\n",
       "    .dataframe thead th {\n",
       "        text-align: right;\n",
       "    }\n",
       "</style>\n",
       "<table border=\"1\" class=\"dataframe\">\n",
       "  <thead>\n",
       "    <tr style=\"text-align: right;\">\n",
       "      <th></th>\n",
       "      <th>Sales</th>\n",
       "    </tr>\n",
       "    <tr>\n",
       "      <th>Year</th>\n",
       "      <th></th>\n",
       "    </tr>\n",
       "  </thead>\n",
       "  <tbody>\n",
       "    <tr>\n",
       "      <th>2013</th>\n",
       "      <td>87049</td>\n",
       "    </tr>\n",
       "    <tr>\n",
       "      <th>2014</th>\n",
       "      <td>92782</td>\n",
       "    </tr>\n",
       "    <tr>\n",
       "      <th>2015</th>\n",
       "      <td>101213</td>\n",
       "    </tr>\n",
       "    <tr>\n",
       "      <th>2016</th>\n",
       "      <td>113040</td>\n",
       "    </tr>\n",
       "    <tr>\n",
       "      <th>2017</th>\n",
       "      <td>92394</td>\n",
       "    </tr>\n",
       "  </tbody>\n",
       "</table>\n",
       "</div>"
      ],
      "text/plain": [
       "       Sales\n",
       "Year        \n",
       "2013   87049\n",
       "2014   92782\n",
       "2015  101213\n",
       "2016  113040\n",
       "2017   92394"
      ]
     },
     "execution_count": 83,
     "metadata": {},
     "output_type": "execute_result"
    }
   ],
   "source": [
    "# table of total sales each year\n",
    "tb1 = pd.pivot_table(df_year,index=[\"Year\"],\n",
    "               values=[\"Sales\"],\n",
    "               fill_value = 0,\n",
    "            )\n",
    "tb1"
   ]
  },
  {
   "cell_type": "code",
   "execution_count": 84,
   "id": "45fd34c5",
   "metadata": {},
   "outputs": [
    {
     "data": {
      "text/plain": [
       "<AxesSubplot:xlabel='Year'>"
      ]
     },
     "execution_count": 84,
     "metadata": {},
     "output_type": "execute_result"
    },
    {
     "data": {
      "image/png": "[encoded data removed]",
      "text/plain": [
       "<Figure size 432x288 with 1 Axes>"
      ]
     },
     "metadata": {
      "needs_background": "light"
     },
     "output_type": "display_data"
    }
   ],
   "source": [
    "# plot the table of total sales per year vs year\n",
    "df_year.plot.bar(x='Year', y='Sales', rot=0)"
   ]
  },
  {
   "cell_type": "markdown",
   "id": "4671a489",
   "metadata": {},
   "source": [
    "From the bar chart we can observe that total sales increased year by year from 2013 to 2016, but there's a sudden decrease in 2017/"
   ]
  },
  {
   "cell_type": "code",
   "execution_count": 85,
   "id": "754fd6e7",
   "metadata": {},
   "outputs": [
    {
     "data": {
      "text/html": [
       "<div>\n",
       "<style scoped>\n",
       "    .dataframe tbody tr th:only-of-type {\n",
       "        vertical-align: middle;\n",
       "    }\n",
       "\n",
       "    .dataframe tbody tr th {\n",
       "        vertical-align: top;\n",
       "    }\n",
       "\n",
       "    .dataframe thead th {\n",
       "        text-align: right;\n",
       "    }\n",
       "</style>\n",
       "<table border=\"1\" class=\"dataframe\">\n",
       "  <thead>\n",
       "    <tr style=\"text-align: right;\">\n",
       "      <th></th>\n",
       "      <th>Sales</th>\n",
       "    </tr>\n",
       "    <tr>\n",
       "      <th>Year</th>\n",
       "      <th></th>\n",
       "    </tr>\n",
       "  </thead>\n",
       "  <tbody>\n",
       "    <tr>\n",
       "      <th>2013</th>\n",
       "      <td>87049</td>\n",
       "    </tr>\n",
       "    <tr>\n",
       "      <th>2014</th>\n",
       "      <td>92782</td>\n",
       "    </tr>\n",
       "    <tr>\n",
       "      <th>2015</th>\n",
       "      <td>101213</td>\n",
       "    </tr>\n",
       "    <tr>\n",
       "      <th>2016</th>\n",
       "      <td>113040</td>\n",
       "    </tr>\n",
       "    <tr>\n",
       "      <th>2017</th>\n",
       "      <td>92394</td>\n",
       "    </tr>\n",
       "  </tbody>\n",
       "</table>\n",
       "</div>"
      ],
      "text/plain": [
       "       Sales\n",
       "Year        \n",
       "2013   87049\n",
       "2014   92782\n",
       "2015  101213\n",
       "2016  113040\n",
       "2017   92394"
      ]
     },
     "execution_count": 85,
     "metadata": {},
     "output_type": "execute_result"
    }
   ],
   "source": [
    "# (b) sum by year post-pivoting\n",
    "tb2 = pd.pivot_table(df,index=[\"Year\"],\n",
    "               values=[\"Sales\"],\n",
    "               fill_value = 0,\n",
    "               aggfunc= 'sum')\n",
    "tb2"
   ]
  },
  {
   "cell_type": "code",
   "execution_count": 86,
   "id": "e98b0e07",
   "metadata": {},
   "outputs": [
    {
     "data": {
      "text/plain": [
       "<AxesSubplot:xlabel='Year'>"
      ]
     },
     "execution_count": 86,
     "metadata": {},
     "output_type": "execute_result"
    },
    {
     "data": {
      "image/png": "[encoded data removed]",
      "text/plain": [
       "<Figure size 432x288 with 1 Axes>"
      ]
     },
     "metadata": {
      "needs_background": "light"
     },
     "output_type": "display_data"
    }
   ],
   "source": [
    "# plot the table of total sales per year vs year\n",
    "tb2.plot.bar()"
   ]
  },
  {
   "cell_type": "code",
   "execution_count": null,
   "id": "8055a601",
   "metadata": {},
   "outputs": [],
   "source": []
  },
  {
   "cell_type": "code",
   "execution_count": null,
   "id": "c88179a2",
   "metadata": {},
   "outputs": [],
   "source": []
  },
  {
   "cell_type": "code",
   "execution_count": null,
   "id": "b3c017fa",
   "metadata": {},
   "outputs": [],
   "source": []
  },
  {
   "cell_type": "code",
   "execution_count": null,
   "id": "c3bededf",
   "metadata": {},
   "outputs": [],
   "source": []
  },
  {
   "cell_type": "code",
   "execution_count": null,
   "id": "31839037",
   "metadata": {},
   "outputs": [],
   "source": []
  },
  {
   "cell_type": "code",
   "execution_count": null,
   "id": "e71f8287",
   "metadata": {},
   "outputs": [],
   "source": []
  }
 ],
 "metadata": {
  "kernelspec": {
   "display_name": "Python 3 (ipykernel)",
   "language": "python",
   "name": "python3"
  },
  "language_info": {
   "codemirror_mode": {
    "name": "ipython",
    "version": 3
   },
   "file_extension": ".py",
   "mimetype": "text/x-python",
   "name": "python",
   "nbconvert_exporter": "python",
   "pygments_lexer": "ipython3",
   "version": "3.9.12"
  }
 },
 "nbformat": 4,
 "nbformat_minor": 5
}
